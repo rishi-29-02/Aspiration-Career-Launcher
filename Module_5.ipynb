{
  "nbformat": 4,
  "nbformat_minor": 0,
  "metadata": {
    "colab": {
      "name": "Module_5.ipynb",
      "provenance": [],
      "collapsed_sections": [],
      "authorship_tag": "ABX9TyO1jWndyj7msAI62ezc+dPN",
      "include_colab_link": true
    },
    "kernelspec": {
      "name": "python3",
      "display_name": "Python 3"
    }
  },
  "cells": [
    {
      "cell_type": "markdown",
      "metadata": {
        "id": "view-in-github",
        "colab_type": "text"
      },
      "source": [
        "<a href=\"https://colab.research.google.com/github/rishi-29-02/Aspiration-Career-Launcher/blob/main/Module_5.ipynb\" target=\"_parent\"><img src=\"https://colab.research.google.com/assets/colab-badge.svg\" alt=\"Open In Colab\"/></a>"
      ]
    },
    {
      "cell_type": "markdown",
      "metadata": {
        "id": "W2t2I9qTEFnW"
      },
      "source": [
        "# Module 5"
      ]
    },
    {
      "cell_type": "markdown",
      "metadata": {
        "id": "qvzW3hXfFJ8X"
      },
      "source": [
        "In this module, We’ll be looking at investment portfolio optimization with python, the fundamental concept of diversification and the creation of an efficient frontier that can be used by investors to choose specific mixes of assets based on investment goals; that is, the trade off between their desired level of portfolio return vs their desired level of portfolio risk.\n",
        "\n",
        "Modern Portfolio Theory suggests that it is possible to construct an \"efficient frontier\" of optimal portfolios, offering the maximum possible expected return for a given level of risk. It suggests that it is not enough to look at the expected risk and return of one particular stock. By investing in more than one stock, an investor can reap the benefits of diversification, particularly a reduction in the riskiness of the portfolio. MPT quantifies the benefits of diversification, also known as not putting all of your eggs in one basket."
      ]
    },
    {
      "cell_type": "markdown",
      "metadata": {
        "id": "kXau7RMrGyyJ"
      },
      "source": [
        "#5.1"
      ]
    },
    {
      "cell_type": "markdown",
      "metadata": {
        "id": "VL_udfroHC4j"
      },
      "source": [
        "For your chosen stock, calculate the mean daily return and daily standard deviation of returns, and then just annualise them to get mean expected annual return and volatility of that single stock. ( annual mean = daily mean 252 , annual stdev = daily stdev sqrt(252) )"
      ]
    },
    {
      "cell_type": "code",
      "metadata": {
        "id": "P3z1pbiqHJLd"
      },
      "source": [
        "import numpy as np\n",
        "import pandas as pd\n",
        "import matplotlib.pyplot as plt"
      ],
      "execution_count": 49,
      "outputs": []
    },
    {
      "cell_type": "code",
      "metadata": {
        "id": "FICKcV07HQHQ"
      },
      "source": [
        "#from google.colab import files\n",
        "#uploaded = files.upload()"
      ],
      "execution_count": 50,
      "outputs": []
    },
    {
      "cell_type": "code",
      "metadata": {
        "colab": {
          "base_uri": "https://localhost:8080/",
          "height": 793
        },
        "id": "NjnWlSOiHVpu",
        "outputId": "d53e3a09-db9d-414e-9d38-6081209b2012"
      },
      "source": [
        "data = pd.read_csv('HINDUNILVR.csv')\n",
        "data"
      ],
      "execution_count": 51,
      "outputs": [
        {
          "output_type": "execute_result",
          "data": {
            "text/html": [
              "<div>\n",
              "<style scoped>\n",
              "    .dataframe tbody tr th:only-of-type {\n",
              "        vertical-align: middle;\n",
              "    }\n",
              "\n",
              "    .dataframe tbody tr th {\n",
              "        vertical-align: top;\n",
              "    }\n",
              "\n",
              "    .dataframe thead th {\n",
              "        text-align: right;\n",
              "    }\n",
              "</style>\n",
              "<table border=\"1\" class=\"dataframe\">\n",
              "  <thead>\n",
              "    <tr style=\"text-align: right;\">\n",
              "      <th></th>\n",
              "      <th>Symbol</th>\n",
              "      <th>Series</th>\n",
              "      <th>Date</th>\n",
              "      <th>Prev Close</th>\n",
              "      <th>Open Price</th>\n",
              "      <th>High Price</th>\n",
              "      <th>Low Price</th>\n",
              "      <th>Last Price</th>\n",
              "      <th>Close Price</th>\n",
              "      <th>Average Price</th>\n",
              "      <th>Total Traded Quantity</th>\n",
              "      <th>Turnover</th>\n",
              "      <th>No. of Trades</th>\n",
              "      <th>Deliverable Qty</th>\n",
              "      <th>% Dly Qt to Traded Qty</th>\n",
              "    </tr>\n",
              "  </thead>\n",
              "  <tbody>\n",
              "    <tr>\n",
              "      <th>0</th>\n",
              "      <td>HINDUNILVR</td>\n",
              "      <td>EQ</td>\n",
              "      <td>15-May-2017</td>\n",
              "      <td>980.20</td>\n",
              "      <td>981.30</td>\n",
              "      <td>988.85</td>\n",
              "      <td>974.55</td>\n",
              "      <td>982.50</td>\n",
              "      <td>983.25</td>\n",
              "      <td>980.72</td>\n",
              "      <td>734446</td>\n",
              "      <td>7.202888e+08</td>\n",
              "      <td>32976</td>\n",
              "      <td>420159</td>\n",
              "      <td>57.21</td>\n",
              "    </tr>\n",
              "    <tr>\n",
              "      <th>1</th>\n",
              "      <td>HINDUNILVR</td>\n",
              "      <td>EQ</td>\n",
              "      <td>16-May-2017</td>\n",
              "      <td>983.25</td>\n",
              "      <td>983.00</td>\n",
              "      <td>1002.50</td>\n",
              "      <td>982.05</td>\n",
              "      <td>999.50</td>\n",
              "      <td>1000.40</td>\n",
              "      <td>994.00</td>\n",
              "      <td>1503815</td>\n",
              "      <td>1.494798e+09</td>\n",
              "      <td>39717</td>\n",
              "      <td>669576</td>\n",
              "      <td>44.53</td>\n",
              "    </tr>\n",
              "    <tr>\n",
              "      <th>2</th>\n",
              "      <td>HINDUNILVR</td>\n",
              "      <td>EQ</td>\n",
              "      <td>17-May-2017</td>\n",
              "      <td>1000.40</td>\n",
              "      <td>1004.00</td>\n",
              "      <td>1012.00</td>\n",
              "      <td>991.10</td>\n",
              "      <td>1009.00</td>\n",
              "      <td>1009.40</td>\n",
              "      <td>1003.84</td>\n",
              "      <td>1999387</td>\n",
              "      <td>2.007056e+09</td>\n",
              "      <td>63210</td>\n",
              "      <td>996054</td>\n",
              "      <td>49.82</td>\n",
              "    </tr>\n",
              "    <tr>\n",
              "      <th>3</th>\n",
              "      <td>HINDUNILVR</td>\n",
              "      <td>EQ</td>\n",
              "      <td>18-May-2017</td>\n",
              "      <td>1009.40</td>\n",
              "      <td>1008.00</td>\n",
              "      <td>1009.00</td>\n",
              "      <td>983.00</td>\n",
              "      <td>987.50</td>\n",
              "      <td>990.25</td>\n",
              "      <td>997.56</td>\n",
              "      <td>2690943</td>\n",
              "      <td>2.684374e+09</td>\n",
              "      <td>78098</td>\n",
              "      <td>983594</td>\n",
              "      <td>36.55</td>\n",
              "    </tr>\n",
              "    <tr>\n",
              "      <th>4</th>\n",
              "      <td>HINDUNILVR</td>\n",
              "      <td>EQ</td>\n",
              "      <td>19-May-2017</td>\n",
              "      <td>990.25</td>\n",
              "      <td>1000.00</td>\n",
              "      <td>1022.75</td>\n",
              "      <td>1000.00</td>\n",
              "      <td>1004.10</td>\n",
              "      <td>1008.00</td>\n",
              "      <td>1009.97</td>\n",
              "      <td>3059815</td>\n",
              "      <td>3.090316e+09</td>\n",
              "      <td>57429</td>\n",
              "      <td>1523108</td>\n",
              "      <td>49.78</td>\n",
              "    </tr>\n",
              "    <tr>\n",
              "      <th>...</th>\n",
              "      <td>...</td>\n",
              "      <td>...</td>\n",
              "      <td>...</td>\n",
              "      <td>...</td>\n",
              "      <td>...</td>\n",
              "      <td>...</td>\n",
              "      <td>...</td>\n",
              "      <td>...</td>\n",
              "      <td>...</td>\n",
              "      <td>...</td>\n",
              "      <td>...</td>\n",
              "      <td>...</td>\n",
              "      <td>...</td>\n",
              "      <td>...</td>\n",
              "      <td>...</td>\n",
              "    </tr>\n",
              "    <tr>\n",
              "      <th>490</th>\n",
              "      <td>HINDUNILVR</td>\n",
              "      <td>EQ</td>\n",
              "      <td>07-May-2019</td>\n",
              "      <td>1668.90</td>\n",
              "      <td>1678.80</td>\n",
              "      <td>1710.90</td>\n",
              "      <td>1672.50</td>\n",
              "      <td>1697.50</td>\n",
              "      <td>1697.50</td>\n",
              "      <td>1700.33</td>\n",
              "      <td>2212617</td>\n",
              "      <td>3.762183e+09</td>\n",
              "      <td>83971</td>\n",
              "      <td>1248858</td>\n",
              "      <td>56.44</td>\n",
              "    </tr>\n",
              "    <tr>\n",
              "      <th>491</th>\n",
              "      <td>HINDUNILVR</td>\n",
              "      <td>EQ</td>\n",
              "      <td>08-May-2019</td>\n",
              "      <td>1697.50</td>\n",
              "      <td>1697.50</td>\n",
              "      <td>1697.50</td>\n",
              "      <td>1675.00</td>\n",
              "      <td>1690.15</td>\n",
              "      <td>1688.70</td>\n",
              "      <td>1686.13</td>\n",
              "      <td>1243338</td>\n",
              "      <td>2.096428e+09</td>\n",
              "      <td>105328</td>\n",
              "      <td>849935</td>\n",
              "      <td>68.36</td>\n",
              "    </tr>\n",
              "    <tr>\n",
              "      <th>492</th>\n",
              "      <td>HINDUNILVR</td>\n",
              "      <td>EQ</td>\n",
              "      <td>09-May-2019</td>\n",
              "      <td>1688.70</td>\n",
              "      <td>1680.10</td>\n",
              "      <td>1713.00</td>\n",
              "      <td>1677.00</td>\n",
              "      <td>1702.45</td>\n",
              "      <td>1703.75</td>\n",
              "      <td>1695.24</td>\n",
              "      <td>1204995</td>\n",
              "      <td>2.042757e+09</td>\n",
              "      <td>96629</td>\n",
              "      <td>821111</td>\n",
              "      <td>68.14</td>\n",
              "    </tr>\n",
              "    <tr>\n",
              "      <th>493</th>\n",
              "      <td>HINDUNILVR</td>\n",
              "      <td>EQ</td>\n",
              "      <td>10-May-2019</td>\n",
              "      <td>1703.75</td>\n",
              "      <td>1708.95</td>\n",
              "      <td>1709.00</td>\n",
              "      <td>1678.50</td>\n",
              "      <td>1686.00</td>\n",
              "      <td>1687.45</td>\n",
              "      <td>1694.39</td>\n",
              "      <td>1000696</td>\n",
              "      <td>1.695567e+09</td>\n",
              "      <td>98364</td>\n",
              "      <td>581135</td>\n",
              "      <td>58.07</td>\n",
              "    </tr>\n",
              "    <tr>\n",
              "      <th>494</th>\n",
              "      <td>HINDUNILVR</td>\n",
              "      <td>EQ</td>\n",
              "      <td>13-May-2019</td>\n",
              "      <td>1687.45</td>\n",
              "      <td>1692.00</td>\n",
              "      <td>1717.00</td>\n",
              "      <td>1688.70</td>\n",
              "      <td>1699.10</td>\n",
              "      <td>1702.00</td>\n",
              "      <td>1705.60</td>\n",
              "      <td>1160287</td>\n",
              "      <td>1.978984e+09</td>\n",
              "      <td>55814</td>\n",
              "      <td>653294</td>\n",
              "      <td>56.30</td>\n",
              "    </tr>\n",
              "  </tbody>\n",
              "</table>\n",
              "<p>495 rows × 15 columns</p>\n",
              "</div>"
            ],
            "text/plain": [
              "         Symbol Series  ... Deliverable Qty  % Dly Qt to Traded Qty\n",
              "0    HINDUNILVR     EQ  ...          420159                   57.21\n",
              "1    HINDUNILVR     EQ  ...          669576                   44.53\n",
              "2    HINDUNILVR     EQ  ...          996054                   49.82\n",
              "3    HINDUNILVR     EQ  ...          983594                   36.55\n",
              "4    HINDUNILVR     EQ  ...         1523108                   49.78\n",
              "..          ...    ...  ...             ...                     ...\n",
              "490  HINDUNILVR     EQ  ...         1248858                   56.44\n",
              "491  HINDUNILVR     EQ  ...          849935                   68.36\n",
              "492  HINDUNILVR     EQ  ...          821111                   68.14\n",
              "493  HINDUNILVR     EQ  ...          581135                   58.07\n",
              "494  HINDUNILVR     EQ  ...          653294                   56.30\n",
              "\n",
              "[495 rows x 15 columns]"
            ]
          },
          "metadata": {
            "tags": []
          },
          "execution_count": 51
        }
      ]
    },
    {
      "cell_type": "code",
      "metadata": {
        "colab": {
          "base_uri": "https://localhost:8080/"
        },
        "id": "a5KcnURsHiEf",
        "outputId": "21f4ba5c-c5ec-4c89-925e-ccf6b09c28f7"
      },
      "source": [
        "returns = data['Close Price'].pct_change().dropna()\n",
        "print('Mean daily return : ', returns.mean())\n",
        "print('Daily Std deviations : ', returns.std())\n",
        "print('Annual mean :', returns.mean() * 252)\n",
        "print('Annual std:', returns.std() * np.sqrt(252))"
      ],
      "execution_count": 52,
      "outputs": [
        {
          "output_type": "stream",
          "text": [
            "Mean daily return :  0.0011856032175239304\n",
            "Daily Std deviations :  0.012211153040268803\n",
            "Annual mean : 0.29877201081603044\n",
            "Annual std: 0.19384604499540928\n"
          ],
          "name": "stdout"
        }
      ]
    },
    {
      "cell_type": "markdown",
      "metadata": {
        "id": "Gp_LNm6sJ678"
      },
      "source": [
        "# 5.2"
      ]
    },
    {
      "cell_type": "markdown",
      "metadata": {
        "id": "ouQI_5hlKh6q"
      },
      "source": [
        "Now, we need to diversify our portfolio. Build your own portfolio by choosing any 5 stocks, preferably of different sectors and different caps. Assume that all 5 have the same weightage, i.e. 20% . Now calculate the annual returns and volatility of the entire portfolio ( Hint : Don't forget to use the covariance )"
      ]
    },
    {
      "cell_type": "code",
      "metadata": {
        "id": "kJ38MCNvKo0g"
      },
      "source": [
        "#from google.colab import files\n",
        "#uploaded = files.upload()"
      ],
      "execution_count": 53,
      "outputs": []
    },
    {
      "cell_type": "code",
      "metadata": {
        "colab": {
          "base_uri": "https://localhost:8080/",
          "height": 419
        },
        "id": "X6OZ4B7mLfgx",
        "outputId": "30d5580f-1971-40f1-ce4f-ad80266a5d9f"
      },
      "source": [
        "df_bajaj = pd.read_csv('BAJFINANCE.csv')\n",
        "df_raymond = pd.read_csv('RAYMOND.csv')\n",
        "df_suntv = pd.read_csv('SUNTV.csv')\n",
        "df_tatapower = pd.read_csv('TATAPOWER.csv')\n",
        "df_titan = pd.read_csv('TITAN.csv')\n",
        "\n",
        "df_stocks = pd.DataFrame({'BAJFINANCE':df_bajaj['Close Price'],\n",
        "                          'RAYMOND': df_raymond['Close Price'],\n",
        "                          'SUNTV': df_suntv['Close Price'],\n",
        "                          'TATAPOWER': df_tatapower['Close Price'],\n",
        "                          'TITAN': df_titan['Close Price']})\n",
        "df_stocks.dropna(inplace=True)\n",
        "df_stocks"
      ],
      "execution_count": 54,
      "outputs": [
        {
          "output_type": "execute_result",
          "data": {
            "text/html": [
              "<div>\n",
              "<style scoped>\n",
              "    .dataframe tbody tr th:only-of-type {\n",
              "        vertical-align: middle;\n",
              "    }\n",
              "\n",
              "    .dataframe tbody tr th {\n",
              "        vertical-align: top;\n",
              "    }\n",
              "\n",
              "    .dataframe thead th {\n",
              "        text-align: right;\n",
              "    }\n",
              "</style>\n",
              "<table border=\"1\" class=\"dataframe\">\n",
              "  <thead>\n",
              "    <tr style=\"text-align: right;\">\n",
              "      <th></th>\n",
              "      <th>BAJFINANCE</th>\n",
              "      <th>RAYMOND</th>\n",
              "      <th>SUNTV</th>\n",
              "      <th>TATAPOWER</th>\n",
              "      <th>TITAN</th>\n",
              "    </tr>\n",
              "  </thead>\n",
              "  <tbody>\n",
              "    <tr>\n",
              "      <th>0</th>\n",
              "      <td>1332.95</td>\n",
              "      <td>772.80</td>\n",
              "      <td>912.20</td>\n",
              "      <td>83.55</td>\n",
              "      <td>483.65</td>\n",
              "    </tr>\n",
              "    <tr>\n",
              "      <th>1</th>\n",
              "      <td>1347.75</td>\n",
              "      <td>785.00</td>\n",
              "      <td>894.70</td>\n",
              "      <td>83.85</td>\n",
              "      <td>488.30</td>\n",
              "    </tr>\n",
              "    <tr>\n",
              "      <th>2</th>\n",
              "      <td>1324.80</td>\n",
              "      <td>783.65</td>\n",
              "      <td>887.05</td>\n",
              "      <td>85.35</td>\n",
              "      <td>481.75</td>\n",
              "    </tr>\n",
              "    <tr>\n",
              "      <th>3</th>\n",
              "      <td>1314.55</td>\n",
              "      <td>746.95</td>\n",
              "      <td>871.35</td>\n",
              "      <td>83.75</td>\n",
              "      <td>471.65</td>\n",
              "    </tr>\n",
              "    <tr>\n",
              "      <th>4</th>\n",
              "      <td>1289.15</td>\n",
              "      <td>723.10</td>\n",
              "      <td>852.40</td>\n",
              "      <td>84.15</td>\n",
              "      <td>471.15</td>\n",
              "    </tr>\n",
              "    <tr>\n",
              "      <th>...</th>\n",
              "      <td>...</td>\n",
              "      <td>...</td>\n",
              "      <td>...</td>\n",
              "      <td>...</td>\n",
              "      <td>...</td>\n",
              "    </tr>\n",
              "    <tr>\n",
              "      <th>489</th>\n",
              "      <td>3034.30</td>\n",
              "      <td>808.95</td>\n",
              "      <td>551.10</td>\n",
              "      <td>65.85</td>\n",
              "      <td>1145.05</td>\n",
              "    </tr>\n",
              "    <tr>\n",
              "      <th>490</th>\n",
              "      <td>3017.05</td>\n",
              "      <td>807.10</td>\n",
              "      <td>528.90</td>\n",
              "      <td>64.35</td>\n",
              "      <td>1082.85</td>\n",
              "    </tr>\n",
              "    <tr>\n",
              "      <th>491</th>\n",
              "      <td>2921.30</td>\n",
              "      <td>805.30</td>\n",
              "      <td>540.70</td>\n",
              "      <td>64.50</td>\n",
              "      <td>1086.50</td>\n",
              "    </tr>\n",
              "    <tr>\n",
              "      <th>492</th>\n",
              "      <td>2971.35</td>\n",
              "      <td>804.40</td>\n",
              "      <td>541.15</td>\n",
              "      <td>64.40</td>\n",
              "      <td>1088.70</td>\n",
              "    </tr>\n",
              "    <tr>\n",
              "      <th>493</th>\n",
              "      <td>2922.85</td>\n",
              "      <td>779.35</td>\n",
              "      <td>535.65</td>\n",
              "      <td>63.80</td>\n",
              "      <td>1104.45</td>\n",
              "    </tr>\n",
              "  </tbody>\n",
              "</table>\n",
              "<p>494 rows × 5 columns</p>\n",
              "</div>"
            ],
            "text/plain": [
              "     BAJFINANCE  RAYMOND   SUNTV  TATAPOWER    TITAN\n",
              "0       1332.95   772.80  912.20      83.55   483.65\n",
              "1       1347.75   785.00  894.70      83.85   488.30\n",
              "2       1324.80   783.65  887.05      85.35   481.75\n",
              "3       1314.55   746.95  871.35      83.75   471.65\n",
              "4       1289.15   723.10  852.40      84.15   471.15\n",
              "..          ...      ...     ...        ...      ...\n",
              "489     3034.30   808.95  551.10      65.85  1145.05\n",
              "490     3017.05   807.10  528.90      64.35  1082.85\n",
              "491     2921.30   805.30  540.70      64.50  1086.50\n",
              "492     2971.35   804.40  541.15      64.40  1088.70\n",
              "493     2922.85   779.35  535.65      63.80  1104.45\n",
              "\n",
              "[494 rows x 5 columns]"
            ]
          },
          "metadata": {
            "tags": []
          },
          "execution_count": 54
        }
      ]
    },
    {
      "cell_type": "code",
      "metadata": {
        "id": "bDY8xboJMTTN"
      },
      "source": [
        "# Convert the daily stocks prices into daily returns\n",
        "returns = df_stocks.pct_change().dropna()\n",
        "\n",
        "\n",
        "# Calculate the mean daily return and covariance\n",
        "daily_mean = returns.mean()\n",
        "cov_matrix = returns.cov()"
      ],
      "execution_count": 55,
      "outputs": []
    },
    {
      "cell_type": "code",
      "metadata": {
        "colab": {
          "base_uri": "https://localhost:8080/"
        },
        "id": "stmYCmE3aAGD",
        "outputId": "1ea8ddcb-976d-4a99-86a4-df17709f1bd4"
      },
      "source": [
        "# array holding the portfolio weights of each stocks\n",
        "weights = np.asarray([0.2, 0.2, 0.2, 0.2, 0.2])\n",
        "\n",
        "# calculate the annualized portfolio return \n",
        "portfolio_return = np.sum(daily_mean*weights) * 252\n",
        "\n",
        "# calculate the annualized portfolio volatility\n",
        "portfolio_std_dev = np.sqrt(np.dot(weights.T, (np.dot(cov_matrix, weights)))) * np.sqrt(252)\n",
        "\n",
        "print('Portfolio expected annual return is {} and volatility is {}'.format(portfolio_return, portfolio_std_dev))"
      ],
      "execution_count": 56,
      "outputs": [
        {
          "output_type": "stream",
          "text": [
            "Portfolio expected annual return is 0.13984684574676476 and volatility is 0.20633708619580043\n"
          ],
          "name": "stdout"
        }
      ]
    },
    {
      "cell_type": "markdown",
      "metadata": {
        "id": "1WnoiPhKbGMU"
      },
      "source": [
        "#5.3 & 5.4"
      ]
    },
    {
      "cell_type": "markdown",
      "metadata": {
        "id": "MEJ0ME7JeEqD"
      },
      "source": [
        "Prepare a scatter plot for differing weights of the individual stocks in the portfolio , the axes being the returns and volatility. Colour the data points based on the Sharpe Ratio ( Returns/Volatility) of that particular portfolio.\n",
        "\n",
        "Mark the 2 portfolios where:\n",
        "\n",
        "Portfolio 1 - The Sharpe ratio is the highest\n",
        "\n",
        "Portfolio 2 - The volatility is the lowest."
      ]
    },
    {
      "cell_type": "code",
      "metadata": {
        "colab": {
          "base_uri": "https://localhost:8080/",
          "height": 419
        },
        "id": "etVH_ZASfX6w",
        "outputId": "b571b5ce-1032-473c-d582-8a9fe0138fd8"
      },
      "source": [
        "# list of stocks in the portfolio\n",
        "stocks = df_stocks.columns\n",
        "\n",
        "# set the number of returns of ransom portfolio returns\n",
        "num_portfolios = 25000\n",
        "\n",
        "# set up array to hold results\n",
        "# We have to increase the size of the array to hold the weight values of each stocks\n",
        "results = np.zeros((4+len(stocks)-1, num_portfolios))\n",
        "\n",
        "for i in range(num_portfolios): \n",
        "  # select random weights for portfolio holdings\n",
        "  weights = np.array(np.random.random(5))\n",
        "  # rebalce weights to sum upto 1\n",
        "  weights = weights/np.sum(weights)\n",
        "\n",
        "  # calculate the portfolio return and volatility\n",
        "  portfolio_return = np.sum(daily_mean* weights) * 252\n",
        "  portfolio_std_dev = np.sqrt(np.dot(weights.T, np.dot(cov_matrix, weights))) * np.sqrt(252)\n",
        "\n",
        "  # store results in the results array\n",
        "  results[0, i] = portfolio_return\n",
        "  results[1, i] = portfolio_std_dev\n",
        "\n",
        "  # store the shape ration - (return/volatility) - risk free rate element excluded for simplicity\n",
        "  results[2, i] = portfolio_return/portfolio_std_dev\n",
        "\n",
        "  # iterate through the weight vector and add the data to the results array\n",
        "  for j in range(len(weights)):\n",
        "    results[j+3, i] = weights[j]\n",
        "\n",
        "# convert the results array into pandas dataframe\n",
        "results_frame = pd.DataFrame(results.T, columns=['returns', 'stddev', 'sharpe',\n",
        "                                                 stocks[0], stocks[1], stocks[2], stocks[3], stocks[4]])\n",
        "results_frame"
      ],
      "execution_count": 57,
      "outputs": [
        {
          "output_type": "execute_result",
          "data": {
            "text/html": [
              "<div>\n",
              "<style scoped>\n",
              "    .dataframe tbody tr th:only-of-type {\n",
              "        vertical-align: middle;\n",
              "    }\n",
              "\n",
              "    .dataframe tbody tr th {\n",
              "        vertical-align: top;\n",
              "    }\n",
              "\n",
              "    .dataframe thead th {\n",
              "        text-align: right;\n",
              "    }\n",
              "</style>\n",
              "<table border=\"1\" class=\"dataframe\">\n",
              "  <thead>\n",
              "    <tr style=\"text-align: right;\">\n",
              "      <th></th>\n",
              "      <th>returns</th>\n",
              "      <th>stddev</th>\n",
              "      <th>sharpe</th>\n",
              "      <th>BAJFINANCE</th>\n",
              "      <th>RAYMOND</th>\n",
              "      <th>SUNTV</th>\n",
              "      <th>TATAPOWER</th>\n",
              "      <th>TITAN</th>\n",
              "    </tr>\n",
              "  </thead>\n",
              "  <tbody>\n",
              "    <tr>\n",
              "      <th>0</th>\n",
              "      <td>0.088547</td>\n",
              "      <td>0.212090</td>\n",
              "      <td>0.417499</td>\n",
              "      <td>0.073302</td>\n",
              "      <td>0.264284</td>\n",
              "      <td>0.165044</td>\n",
              "      <td>0.291647</td>\n",
              "      <td>0.205723</td>\n",
              "    </tr>\n",
              "    <tr>\n",
              "      <th>1</th>\n",
              "      <td>0.150807</td>\n",
              "      <td>0.205654</td>\n",
              "      <td>0.733305</td>\n",
              "      <td>0.170046</td>\n",
              "      <td>0.243207</td>\n",
              "      <td>0.148161</td>\n",
              "      <td>0.213159</td>\n",
              "      <td>0.225427</td>\n",
              "    </tr>\n",
              "    <tr>\n",
              "      <th>2</th>\n",
              "      <td>0.184737</td>\n",
              "      <td>0.225424</td>\n",
              "      <td>0.819509</td>\n",
              "      <td>0.335607</td>\n",
              "      <td>0.275692</td>\n",
              "      <td>0.050257</td>\n",
              "      <td>0.241640</td>\n",
              "      <td>0.096805</td>\n",
              "    </tr>\n",
              "    <tr>\n",
              "      <th>3</th>\n",
              "      <td>0.247564</td>\n",
              "      <td>0.197862</td>\n",
              "      <td>1.251198</td>\n",
              "      <td>0.283941</td>\n",
              "      <td>0.127173</td>\n",
              "      <td>0.098280</td>\n",
              "      <td>0.180462</td>\n",
              "      <td>0.310144</td>\n",
              "    </tr>\n",
              "    <tr>\n",
              "      <th>4</th>\n",
              "      <td>0.175223</td>\n",
              "      <td>0.204953</td>\n",
              "      <td>0.854940</td>\n",
              "      <td>0.125838</td>\n",
              "      <td>0.265397</td>\n",
              "      <td>0.069529</td>\n",
              "      <td>0.250240</td>\n",
              "      <td>0.288997</td>\n",
              "    </tr>\n",
              "    <tr>\n",
              "      <th>...</th>\n",
              "      <td>...</td>\n",
              "      <td>...</td>\n",
              "      <td>...</td>\n",
              "      <td>...</td>\n",
              "      <td>...</td>\n",
              "      <td>...</td>\n",
              "      <td>...</td>\n",
              "      <td>...</td>\n",
              "    </tr>\n",
              "    <tr>\n",
              "      <th>24995</th>\n",
              "      <td>0.163095</td>\n",
              "      <td>0.201906</td>\n",
              "      <td>0.807776</td>\n",
              "      <td>0.146645</td>\n",
              "      <td>0.175037</td>\n",
              "      <td>0.211052</td>\n",
              "      <td>0.165248</td>\n",
              "      <td>0.302018</td>\n",
              "    </tr>\n",
              "    <tr>\n",
              "      <th>24996</th>\n",
              "      <td>0.048610</td>\n",
              "      <td>0.219611</td>\n",
              "      <td>0.221346</td>\n",
              "      <td>0.058061</td>\n",
              "      <td>0.137433</td>\n",
              "      <td>0.373135</td>\n",
              "      <td>0.203225</td>\n",
              "      <td>0.228146</td>\n",
              "    </tr>\n",
              "    <tr>\n",
              "      <th>24997</th>\n",
              "      <td>0.173799</td>\n",
              "      <td>0.213253</td>\n",
              "      <td>0.814989</td>\n",
              "      <td>0.237942</td>\n",
              "      <td>0.211147</td>\n",
              "      <td>0.263193</td>\n",
              "      <td>0.054423</td>\n",
              "      <td>0.233295</td>\n",
              "    </tr>\n",
              "    <tr>\n",
              "      <th>24998</th>\n",
              "      <td>0.075559</td>\n",
              "      <td>0.230002</td>\n",
              "      <td>0.328513</td>\n",
              "      <td>0.132722</td>\n",
              "      <td>0.314779</td>\n",
              "      <td>0.068342</td>\n",
              "      <td>0.392821</td>\n",
              "      <td>0.091336</td>\n",
              "    </tr>\n",
              "    <tr>\n",
              "      <th>24999</th>\n",
              "      <td>0.105541</td>\n",
              "      <td>0.228984</td>\n",
              "      <td>0.460909</td>\n",
              "      <td>0.323942</td>\n",
              "      <td>0.155366</td>\n",
              "      <td>0.277954</td>\n",
              "      <td>0.194431</td>\n",
              "      <td>0.048307</td>\n",
              "    </tr>\n",
              "  </tbody>\n",
              "</table>\n",
              "<p>25000 rows × 8 columns</p>\n",
              "</div>"
            ],
            "text/plain": [
              "        returns    stddev    sharpe  ...     SUNTV  TATAPOWER     TITAN\n",
              "0      0.088547  0.212090  0.417499  ...  0.165044   0.291647  0.205723\n",
              "1      0.150807  0.205654  0.733305  ...  0.148161   0.213159  0.225427\n",
              "2      0.184737  0.225424  0.819509  ...  0.050257   0.241640  0.096805\n",
              "3      0.247564  0.197862  1.251198  ...  0.098280   0.180462  0.310144\n",
              "4      0.175223  0.204953  0.854940  ...  0.069529   0.250240  0.288997\n",
              "...         ...       ...       ...  ...       ...        ...       ...\n",
              "24995  0.163095  0.201906  0.807776  ...  0.211052   0.165248  0.302018\n",
              "24996  0.048610  0.219611  0.221346  ...  0.373135   0.203225  0.228146\n",
              "24997  0.173799  0.213253  0.814989  ...  0.263193   0.054423  0.233295\n",
              "24998  0.075559  0.230002  0.328513  ...  0.068342   0.392821  0.091336\n",
              "24999  0.105541  0.228984  0.460909  ...  0.277954   0.194431  0.048307\n",
              "\n",
              "[25000 rows x 8 columns]"
            ]
          },
          "metadata": {
            "tags": []
          },
          "execution_count": 57
        }
      ]
    },
    {
      "cell_type": "markdown",
      "metadata": {
        "id": "6ee5Ka0yfkoP"
      },
      "source": [
        "Create a scatter plot by coloured shape ratio"
      ]
    },
    {
      "cell_type": "code",
      "metadata": {
        "colab": {
          "base_uri": "https://localhost:8080/",
          "height": 388
        },
        "id": "WEEq9gbQwEYm",
        "outputId": "f254c507-2879-45f2-a99f-5f2bb5a2cd72"
      },
      "source": [
        "plt.figure(figsize=(16, 6))\n",
        "plt.scatter(results_frame.stddev,results_frame.returns, c=results_frame.sharpe, cmap='RdYlBu')\n",
        "plt.xlabel('Volatility')\n",
        "plt.ylabel('Returns')\n",
        "plt.colorbar()\n",
        "\n",
        "\n",
        "# position of highest Sharpe ratio\n",
        "max_sharpe_port = results_frame.iloc[results_frame['sharpe'].idxmax()]\n",
        "\n",
        "# position where the volatility is lowest\n",
        "min_vol_port = results_frame.iloc[results_frame['stddev'].idxmin()]\n",
        "\n",
        "# plot red star to highlight position of portfolio with highest Sharpe Ratio\n",
        "plt.scatter(max_sharpe_port[1], max_sharpe_port[0], marker=(5, 1, 0), color='r', s=200)\n",
        "\n",
        "# plot green star to highlight position of minimum variance portfolio\n",
        "plt.scatter(min_vol_port[1], min_vol_port[0], marker=(5, 1, 0), color='g', s=200)\n",
        "\n",
        "plt.show()"
      ],
      "execution_count": 58,
      "outputs": [
        {
          "output_type": "display_data",
          "data": {
            "image/png": "[encoded data removed]",
            "text/plain": [
              "<Figure size 1152x432 with 2 Axes>"
            ]
          },
          "metadata": {
            "tags": [],
            "needs_background": "light"
          }
        }
      ]
    }
  ]
}