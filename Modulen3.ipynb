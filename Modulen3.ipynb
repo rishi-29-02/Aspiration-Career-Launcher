{
  "nbformat": 4,
  "nbformat_minor": 0,
  "metadata": {
    "colab": {
      "name": "Modulen3.ipynb",
      "provenance": [],
      "collapsed_sections": [],
      "authorship_tag": "ABX9TyN+ToHYHZA+O3CodnoTVGko",
      "include_colab_link": true
    },
    "kernelspec": {
      "name": "python3",
      "display_name": "Python 3"
    }
  },
  "cells": [
    {
      "cell_type": "markdown",
      "metadata": {
        "id": "view-in-github",
        "colab_type": "text"
      },
      "source": [
        "<a href=\"https://colab.research.google.com/github/rishi-29-02/Aspiration-Career-Launcher/blob/main/Modulen3.ipynb\" target=\"_parent\"><img src=\"https://colab.research.google.com/assets/colab-badge.svg\" alt=\"Open In Colab\"/></a>"
      ]
    },
    {
      "cell_type": "markdown",
      "metadata": {
        "id": "NM_IWc-_9Fnj"
      },
      "source": [
        "## Module 3 : Fundamental Analysis using Regression"
      ]
    },
    {
      "cell_type": "markdown",
      "metadata": {
        "id": "ZlD1f79C9-VG"
      },
      "source": [
        "#3.1"
      ]
    },
    {
      "cell_type": "markdown",
      "metadata": {
        "id": "qPefvjMF-Hjy"
      },
      "source": [
        "Import the file 'gold.csv', which contains the data of the last 2 years price action of Indian (MCX) gold standard. Explore the dataframe. You'd see 2 unique columns - 'Pred' and 'new'. One of the 2 columns is a linear combination of the OHLC prices with varying coefficients while the other is a polynomial function of the same inputs. \n",
        "\n",
        "Also, one of the 2 columns is partially filled. Using linear regression, find the coefficients of the inputs and using the same trained model, complete the entire column. \n",
        "\n",
        "Also, try to fit the other column as well using a new linear regression model. Check if the predictions are accurate. Mention which column is a linear function and which is polynomial. (Hint: Plotting a histogram & distplot helps in recognizing the discrepencies in prediction, if any.)"
      ]
    },
    {
      "cell_type": "code",
      "metadata": {
        "id": "88mHn1ed-kNv",
        "colab": {
          "base_uri": "https://localhost:8080/"
        },
        "outputId": "ffbca953-d608-4e78-d0b9-b99351b72d7d"
      },
      "source": [
        "import numpy as np\n",
        "import pandas as pd\n",
        "import matplotlib.pyplot as plt\n",
        "\n",
        "from sklearn.model_selection import train_test_split\n",
        "from sklearn.linear_model import LinearRegression\n",
        "from sklearn.metrics import mean_squared_error\n",
        "from sklearn.metrics import r2_score\n",
        "\n",
        "import statsmodels.api as sm\n",
        "\n",
        "import warnings\n",
        "warnings.filterwarnings('ignore')"
      ],
      "execution_count": null,
      "outputs": [
        {
          "output_type": "stream",
          "text": [
            "/usr/local/lib/python3.7/dist-packages/statsmodels/tools/_testing.py:19: FutureWarning: pandas.util.testing is deprecated. Use the functions in the public API at pandas.testing instead.\n",
            "  import pandas.util.testing as tm\n"
          ],
          "name": "stderr"
        }
      ]
    },
    {
      "cell_type": "code",
      "metadata": {
        "id": "AqaNxKb9_K2G"
      },
      "source": [
        "#from google.colab import files\n",
        "#uploaded = files.upload()"
      ],
      "execution_count": null,
      "outputs": []
    },
    {
      "cell_type": "code",
      "metadata": {
        "colab": {
          "base_uri": "https://localhost:8080/",
          "height": 204
        },
        "id": "O0i63H7e_RqP",
        "outputId": "d4688b0c-3da4-4064-e4f4-167fc74a0cd7"
      },
      "source": [
        "data = pd.read_csv('GOLD.csv')\n",
        "data.head()"
      ],
      "execution_count": null,
      "outputs": [
        {
          "output_type": "execute_result",
          "data": {
            "text/html": [
              "<div>\n",
              "<style scoped>\n",
              "    .dataframe tbody tr th:only-of-type {\n",
              "        vertical-align: middle;\n",
              "    }\n",
              "\n",
              "    .dataframe tbody tr th {\n",
              "        vertical-align: top;\n",
              "    }\n",
              "\n",
              "    .dataframe thead th {\n",
              "        text-align: right;\n",
              "    }\n",
              "</style>\n",
              "<table border=\"1\" class=\"dataframe\">\n",
              "  <thead>\n",
              "    <tr style=\"text-align: right;\">\n",
              "      <th></th>\n",
              "      <th>Date</th>\n",
              "      <th>Price</th>\n",
              "      <th>Open</th>\n",
              "      <th>High</th>\n",
              "      <th>Low</th>\n",
              "      <th>Vol.</th>\n",
              "      <th>Change %</th>\n",
              "      <th>Pred</th>\n",
              "      <th>new</th>\n",
              "    </tr>\n",
              "  </thead>\n",
              "  <tbody>\n",
              "    <tr>\n",
              "      <th>0</th>\n",
              "      <td>May 04, 2017</td>\n",
              "      <td>28060</td>\n",
              "      <td>28400</td>\n",
              "      <td>28482</td>\n",
              "      <td>28025</td>\n",
              "      <td>0.08K</td>\n",
              "      <td>-1.79%</td>\n",
              "      <td>738.0</td>\n",
              "      <td>117.570740</td>\n",
              "    </tr>\n",
              "    <tr>\n",
              "      <th>1</th>\n",
              "      <td>May 05, 2017</td>\n",
              "      <td>28184</td>\n",
              "      <td>28136</td>\n",
              "      <td>28382</td>\n",
              "      <td>28135</td>\n",
              "      <td>0.06K</td>\n",
              "      <td>0.44%</td>\n",
              "      <td>-146.0</td>\n",
              "      <td>295.430176</td>\n",
              "    </tr>\n",
              "    <tr>\n",
              "      <th>2</th>\n",
              "      <td>May 08, 2017</td>\n",
              "      <td>28119</td>\n",
              "      <td>28145</td>\n",
              "      <td>28255</td>\n",
              "      <td>28097</td>\n",
              "      <td>7.85K</td>\n",
              "      <td>-0.23%</td>\n",
              "      <td>30.0</td>\n",
              "      <td>132.123714</td>\n",
              "    </tr>\n",
              "    <tr>\n",
              "      <th>3</th>\n",
              "      <td>May 09, 2017</td>\n",
              "      <td>27981</td>\n",
              "      <td>28125</td>\n",
              "      <td>28192</td>\n",
              "      <td>27947</td>\n",
              "      <td>10.10K</td>\n",
              "      <td>-0.49%</td>\n",
              "      <td>357.0</td>\n",
              "      <td>101.298064</td>\n",
              "    </tr>\n",
              "    <tr>\n",
              "      <th>4</th>\n",
              "      <td>May 10, 2017</td>\n",
              "      <td>28007</td>\n",
              "      <td>28060</td>\n",
              "      <td>28146</td>\n",
              "      <td>27981</td>\n",
              "      <td>9.28K</td>\n",
              "      <td>0.09%</td>\n",
              "      <td>124.0</td>\n",
              "      <td>112.153318</td>\n",
              "    </tr>\n",
              "  </tbody>\n",
              "</table>\n",
              "</div>"
            ],
            "text/plain": [
              "           Date  Price   Open   High    Low    Vol. Change %   Pred         new\n",
              "0  May 04, 2017  28060  28400  28482  28025   0.08K   -1.79%  738.0  117.570740\n",
              "1  May 05, 2017  28184  28136  28382  28135   0.06K    0.44% -146.0  295.430176\n",
              "2  May 08, 2017  28119  28145  28255  28097   7.85K   -0.23%   30.0  132.123714\n",
              "3  May 09, 2017  27981  28125  28192  27947  10.10K   -0.49%  357.0  101.298064\n",
              "4  May 10, 2017  28007  28060  28146  27981   9.28K    0.09%  124.0  112.153318"
            ]
          },
          "metadata": {
            "tags": []
          },
          "execution_count": 316
        }
      ]
    },
    {
      "cell_type": "code",
      "metadata": {
        "colab": {
          "base_uri": "https://localhost:8080/"
        },
        "id": "dBfaupBk_4xK",
        "outputId": "a1668624-15dc-4e49-9223-75201e4de595"
      },
      "source": [
        "data.shape"
      ],
      "execution_count": null,
      "outputs": [
        {
          "output_type": "execute_result",
          "data": {
            "text/plain": [
              "(512, 9)"
            ]
          },
          "metadata": {
            "tags": []
          },
          "execution_count": 317
        }
      ]
    },
    {
      "cell_type": "markdown",
      "metadata": {
        "id": "YikYtoeDACf7"
      },
      "source": [
        "Therefore, there are 512 instances and 9 features."
      ]
    },
    {
      "cell_type": "code",
      "metadata": {
        "colab": {
          "base_uri": "https://localhost:8080/",
          "height": 390
        },
        "id": "APRw4Ekr_c11",
        "outputId": "8bffc37a-2fa9-45bd-90ba-daaa2200512e"
      },
      "source": [
        "data.describe(include='all')"
      ],
      "execution_count": null,
      "outputs": [
        {
          "output_type": "execute_result",
          "data": {
            "text/html": [
              "<div>\n",
              "<style scoped>\n",
              "    .dataframe tbody tr th:only-of-type {\n",
              "        vertical-align: middle;\n",
              "    }\n",
              "\n",
              "    .dataframe tbody tr th {\n",
              "        vertical-align: top;\n",
              "    }\n",
              "\n",
              "    .dataframe thead th {\n",
              "        text-align: right;\n",
              "    }\n",
              "</style>\n",
              "<table border=\"1\" class=\"dataframe\">\n",
              "  <thead>\n",
              "    <tr style=\"text-align: right;\">\n",
              "      <th></th>\n",
              "      <th>Date</th>\n",
              "      <th>Price</th>\n",
              "      <th>Open</th>\n",
              "      <th>High</th>\n",
              "      <th>Low</th>\n",
              "      <th>Vol.</th>\n",
              "      <th>Change %</th>\n",
              "      <th>Pred</th>\n",
              "      <th>new</th>\n",
              "    </tr>\n",
              "  </thead>\n",
              "  <tbody>\n",
              "    <tr>\n",
              "      <th>count</th>\n",
              "      <td>512</td>\n",
              "      <td>512.000000</td>\n",
              "      <td>512.000000</td>\n",
              "      <td>512.000000</td>\n",
              "      <td>512.000000</td>\n",
              "      <td>512</td>\n",
              "      <td>512</td>\n",
              "      <td>411.000000</td>\n",
              "      <td>512.000000</td>\n",
              "    </tr>\n",
              "    <tr>\n",
              "      <th>unique</th>\n",
              "      <td>512</td>\n",
              "      <td>NaN</td>\n",
              "      <td>NaN</td>\n",
              "      <td>NaN</td>\n",
              "      <td>NaN</td>\n",
              "      <td>396</td>\n",
              "      <td>205</td>\n",
              "      <td>NaN</td>\n",
              "      <td>NaN</td>\n",
              "    </tr>\n",
              "    <tr>\n",
              "      <th>top</th>\n",
              "      <td>Nov 16, 2017</td>\n",
              "      <td>NaN</td>\n",
              "      <td>NaN</td>\n",
              "      <td>NaN</td>\n",
              "      <td>NaN</td>\n",
              "      <td>0.19K</td>\n",
              "      <td>0.21%</td>\n",
              "      <td>NaN</td>\n",
              "      <td>NaN</td>\n",
              "    </tr>\n",
              "    <tr>\n",
              "      <th>freq</th>\n",
              "      <td>1</td>\n",
              "      <td>NaN</td>\n",
              "      <td>NaN</td>\n",
              "      <td>NaN</td>\n",
              "      <td>NaN</td>\n",
              "      <td>6</td>\n",
              "      <td>11</td>\n",
              "      <td>NaN</td>\n",
              "      <td>NaN</td>\n",
              "    </tr>\n",
              "    <tr>\n",
              "      <th>mean</th>\n",
              "      <td>NaN</td>\n",
              "      <td>30364.583984</td>\n",
              "      <td>30368.412109</td>\n",
              "      <td>30491.089844</td>\n",
              "      <td>30243.320312</td>\n",
              "      <td>NaN</td>\n",
              "      <td>NaN</td>\n",
              "      <td>341.712895</td>\n",
              "      <td>245.161859</td>\n",
              "    </tr>\n",
              "    <tr>\n",
              "      <th>std</th>\n",
              "      <td>NaN</td>\n",
              "      <td>1284.378623</td>\n",
              "      <td>1296.856656</td>\n",
              "      <td>1307.031684</td>\n",
              "      <td>1271.936410</td>\n",
              "      <td>NaN</td>\n",
              "      <td>NaN</td>\n",
              "      <td>271.075609</td>\n",
              "      <td>205.788897</td>\n",
              "    </tr>\n",
              "    <tr>\n",
              "      <th>min</th>\n",
              "      <td>NaN</td>\n",
              "      <td>27812.000000</td>\n",
              "      <td>27805.000000</td>\n",
              "      <td>27887.000000</td>\n",
              "      <td>27620.000000</td>\n",
              "      <td>NaN</td>\n",
              "      <td>NaN</td>\n",
              "      <td>-146.000000</td>\n",
              "      <td>11.109814</td>\n",
              "    </tr>\n",
              "    <tr>\n",
              "      <th>25%</th>\n",
              "      <td>NaN</td>\n",
              "      <td>29432.500000</td>\n",
              "      <td>29436.750000</td>\n",
              "      <td>29499.750000</td>\n",
              "      <td>29345.750000</td>\n",
              "      <td>NaN</td>\n",
              "      <td>NaN</td>\n",
              "      <td>156.500000</td>\n",
              "      <td>101.369172</td>\n",
              "    </tr>\n",
              "    <tr>\n",
              "      <th>50%</th>\n",
              "      <td>NaN</td>\n",
              "      <td>30427.500000</td>\n",
              "      <td>30399.500000</td>\n",
              "      <td>30545.000000</td>\n",
              "      <td>30286.000000</td>\n",
              "      <td>NaN</td>\n",
              "      <td>NaN</td>\n",
              "      <td>299.000000</td>\n",
              "      <td>184.537244</td>\n",
              "    </tr>\n",
              "    <tr>\n",
              "      <th>75%</th>\n",
              "      <td>NaN</td>\n",
              "      <td>31271.750000</td>\n",
              "      <td>31300.000000</td>\n",
              "      <td>31447.500000</td>\n",
              "      <td>31160.750000</td>\n",
              "      <td>NaN</td>\n",
              "      <td>NaN</td>\n",
              "      <td>475.000000</td>\n",
              "      <td>320.835031</td>\n",
              "    </tr>\n",
              "    <tr>\n",
              "      <th>max</th>\n",
              "      <td>NaN</td>\n",
              "      <td>33753.000000</td>\n",
              "      <td>34247.000000</td>\n",
              "      <td>34400.000000</td>\n",
              "      <td>33680.000000</td>\n",
              "      <td>NaN</td>\n",
              "      <td>NaN</td>\n",
              "      <td>2210.000000</td>\n",
              "      <td>1407.321485</td>\n",
              "    </tr>\n",
              "  </tbody>\n",
              "</table>\n",
              "</div>"
            ],
            "text/plain": [
              "                Date         Price  ...         Pred          new\n",
              "count            512    512.000000  ...   411.000000   512.000000\n",
              "unique           512           NaN  ...          NaN          NaN\n",
              "top     Nov 16, 2017           NaN  ...          NaN          NaN\n",
              "freq               1           NaN  ...          NaN          NaN\n",
              "mean             NaN  30364.583984  ...   341.712895   245.161859\n",
              "std              NaN   1284.378623  ...   271.075609   205.788897\n",
              "min              NaN  27812.000000  ...  -146.000000    11.109814\n",
              "25%              NaN  29432.500000  ...   156.500000   101.369172\n",
              "50%              NaN  30427.500000  ...   299.000000   184.537244\n",
              "75%              NaN  31271.750000  ...   475.000000   320.835031\n",
              "max              NaN  33753.000000  ...  2210.000000  1407.321485\n",
              "\n",
              "[11 rows x 9 columns]"
            ]
          },
          "metadata": {
            "tags": []
          },
          "execution_count": 318
        }
      ]
    },
    {
      "cell_type": "markdown",
      "metadata": {
        "id": "o_AvGrRg_xEH"
      },
      "source": [
        "From the describe, we infer that the Pred feature has only 411 instances."
      ]
    },
    {
      "cell_type": "code",
      "metadata": {
        "colab": {
          "base_uri": "https://localhost:8080/"
        },
        "id": "6YRurP5jAIwj",
        "outputId": "5684472e-2e86-43ea-9736-3e52b958ec1b"
      },
      "source": [
        "data.dtypes"
      ],
      "execution_count": null,
      "outputs": [
        {
          "output_type": "execute_result",
          "data": {
            "text/plain": [
              "Date         object\n",
              "Price         int64\n",
              "Open          int64\n",
              "High          int64\n",
              "Low           int64\n",
              "Vol.         object\n",
              "Change %     object\n",
              "Pred        float64\n",
              "new         float64\n",
              "dtype: object"
            ]
          },
          "metadata": {
            "tags": []
          },
          "execution_count": 319
        }
      ]
    },
    {
      "cell_type": "markdown",
      "metadata": {
        "id": "vyi8Gin4ARE6"
      },
      "source": [
        "Changing the type of Date column to datetime64(ns)."
      ]
    },
    {
      "cell_type": "code",
      "metadata": {
        "colab": {
          "base_uri": "https://localhost:8080/"
        },
        "id": "1OtPwjviAY-j",
        "outputId": "dc88b1c2-e3f3-4c50-9ec0-e85070c0879e"
      },
      "source": [
        "data.Date = pd.to_datetime(data.Date)\n",
        "data.dtypes"
      ],
      "execution_count": null,
      "outputs": [
        {
          "output_type": "execute_result",
          "data": {
            "text/plain": [
              "Date        datetime64[ns]\n",
              "Price                int64\n",
              "Open                 int64\n",
              "High                 int64\n",
              "Low                  int64\n",
              "Vol.                object\n",
              "Change %            object\n",
              "Pred               float64\n",
              "new                float64\n",
              "dtype: object"
            ]
          },
          "metadata": {
            "tags": []
          },
          "execution_count": 320
        }
      ]
    },
    {
      "cell_type": "code",
      "metadata": {
        "colab": {
          "base_uri": "https://localhost:8080/",
          "height": 450
        },
        "id": "YchXOuSoAgyi",
        "outputId": "c5bad671-eaf5-4f34-83c8-48d3ad94bddd"
      },
      "source": [
        "data.set_index('Date', inplace=True)\n",
        "data"
      ],
      "execution_count": null,
      "outputs": [
        {
          "output_type": "execute_result",
          "data": {
            "text/html": [
              "<div>\n",
              "<style scoped>\n",
              "    .dataframe tbody tr th:only-of-type {\n",
              "        vertical-align: middle;\n",
              "    }\n",
              "\n",
              "    .dataframe tbody tr th {\n",
              "        vertical-align: top;\n",
              "    }\n",
              "\n",
              "    .dataframe thead th {\n",
              "        text-align: right;\n",
              "    }\n",
              "</style>\n",
              "<table border=\"1\" class=\"dataframe\">\n",
              "  <thead>\n",
              "    <tr style=\"text-align: right;\">\n",
              "      <th></th>\n",
              "      <th>Price</th>\n",
              "      <th>Open</th>\n",
              "      <th>High</th>\n",
              "      <th>Low</th>\n",
              "      <th>Vol.</th>\n",
              "      <th>Change %</th>\n",
              "      <th>Pred</th>\n",
              "      <th>new</th>\n",
              "    </tr>\n",
              "    <tr>\n",
              "      <th>Date</th>\n",
              "      <th></th>\n",
              "      <th></th>\n",
              "      <th></th>\n",
              "      <th></th>\n",
              "      <th></th>\n",
              "      <th></th>\n",
              "      <th></th>\n",
              "      <th></th>\n",
              "    </tr>\n",
              "  </thead>\n",
              "  <tbody>\n",
              "    <tr>\n",
              "      <th>2017-05-04</th>\n",
              "      <td>28060</td>\n",
              "      <td>28400</td>\n",
              "      <td>28482</td>\n",
              "      <td>28025</td>\n",
              "      <td>0.08K</td>\n",
              "      <td>-1.79%</td>\n",
              "      <td>738.0</td>\n",
              "      <td>117.570740</td>\n",
              "    </tr>\n",
              "    <tr>\n",
              "      <th>2017-05-05</th>\n",
              "      <td>28184</td>\n",
              "      <td>28136</td>\n",
              "      <td>28382</td>\n",
              "      <td>28135</td>\n",
              "      <td>0.06K</td>\n",
              "      <td>0.44%</td>\n",
              "      <td>-146.0</td>\n",
              "      <td>295.430176</td>\n",
              "    </tr>\n",
              "    <tr>\n",
              "      <th>2017-05-08</th>\n",
              "      <td>28119</td>\n",
              "      <td>28145</td>\n",
              "      <td>28255</td>\n",
              "      <td>28097</td>\n",
              "      <td>7.85K</td>\n",
              "      <td>-0.23%</td>\n",
              "      <td>30.0</td>\n",
              "      <td>132.123714</td>\n",
              "    </tr>\n",
              "    <tr>\n",
              "      <th>2017-05-09</th>\n",
              "      <td>27981</td>\n",
              "      <td>28125</td>\n",
              "      <td>28192</td>\n",
              "      <td>27947</td>\n",
              "      <td>10.10K</td>\n",
              "      <td>-0.49%</td>\n",
              "      <td>357.0</td>\n",
              "      <td>101.298064</td>\n",
              "    </tr>\n",
              "    <tr>\n",
              "      <th>2017-05-10</th>\n",
              "      <td>28007</td>\n",
              "      <td>28060</td>\n",
              "      <td>28146</td>\n",
              "      <td>27981</td>\n",
              "      <td>9.28K</td>\n",
              "      <td>0.09%</td>\n",
              "      <td>124.0</td>\n",
              "      <td>112.153318</td>\n",
              "    </tr>\n",
              "    <tr>\n",
              "      <th>...</th>\n",
              "      <td>...</td>\n",
              "      <td>...</td>\n",
              "      <td>...</td>\n",
              "      <td>...</td>\n",
              "      <td>...</td>\n",
              "      <td>...</td>\n",
              "      <td>...</td>\n",
              "      <td>...</td>\n",
              "    </tr>\n",
              "    <tr>\n",
              "      <th>2019-04-26</th>\n",
              "      <td>31868</td>\n",
              "      <td>31851</td>\n",
              "      <td>31934</td>\n",
              "      <td>31705</td>\n",
              "      <td>9.67K</td>\n",
              "      <td>0.08%</td>\n",
              "      <td>NaN</td>\n",
              "      <td>247.177322</td>\n",
              "    </tr>\n",
              "    <tr>\n",
              "      <th>2019-04-30</th>\n",
              "      <td>31625</td>\n",
              "      <td>31800</td>\n",
              "      <td>31824</td>\n",
              "      <td>31597</td>\n",
              "      <td>6.44K</td>\n",
              "      <td>-0.76%</td>\n",
              "      <td>NaN</td>\n",
              "      <td>52.201158</td>\n",
              "    </tr>\n",
              "    <tr>\n",
              "      <th>2019-05-01</th>\n",
              "      <td>31563</td>\n",
              "      <td>31604</td>\n",
              "      <td>31657</td>\n",
              "      <td>31503</td>\n",
              "      <td>1.55K</td>\n",
              "      <td>-0.20%</td>\n",
              "      <td>NaN</td>\n",
              "      <td>113.293305</td>\n",
              "    </tr>\n",
              "    <tr>\n",
              "      <th>2019-05-02</th>\n",
              "      <td>31203</td>\n",
              "      <td>31420</td>\n",
              "      <td>31425</td>\n",
              "      <td>31160</td>\n",
              "      <td>0.48K</td>\n",
              "      <td>-1.14%</td>\n",
              "      <td>NaN</td>\n",
              "      <td>48.365693</td>\n",
              "    </tr>\n",
              "    <tr>\n",
              "      <th>2019-05-03</th>\n",
              "      <td>31341</td>\n",
              "      <td>31250</td>\n",
              "      <td>31500</td>\n",
              "      <td>31163</td>\n",
              "      <td>0.08K</td>\n",
              "      <td>0.44%</td>\n",
              "      <td>NaN</td>\n",
              "      <td>429.924911</td>\n",
              "    </tr>\n",
              "  </tbody>\n",
              "</table>\n",
              "<p>512 rows × 8 columns</p>\n",
              "</div>"
            ],
            "text/plain": [
              "            Price   Open   High    Low    Vol. Change %   Pred         new\n",
              "Date                                                                      \n",
              "2017-05-04  28060  28400  28482  28025   0.08K   -1.79%  738.0  117.570740\n",
              "2017-05-05  28184  28136  28382  28135   0.06K    0.44% -146.0  295.430176\n",
              "2017-05-08  28119  28145  28255  28097   7.85K   -0.23%   30.0  132.123714\n",
              "2017-05-09  27981  28125  28192  27947  10.10K   -0.49%  357.0  101.298064\n",
              "2017-05-10  28007  28060  28146  27981   9.28K    0.09%  124.0  112.153318\n",
              "...           ...    ...    ...    ...     ...      ...    ...         ...\n",
              "2019-04-26  31868  31851  31934  31705   9.67K    0.08%    NaN  247.177322\n",
              "2019-04-30  31625  31800  31824  31597   6.44K   -0.76%    NaN   52.201158\n",
              "2019-05-01  31563  31604  31657  31503   1.55K   -0.20%    NaN  113.293305\n",
              "2019-05-02  31203  31420  31425  31160   0.48K   -1.14%    NaN   48.365693\n",
              "2019-05-03  31341  31250  31500  31163   0.08K    0.44%    NaN  429.924911\n",
              "\n",
              "[512 rows x 8 columns]"
            ]
          },
          "metadata": {
            "tags": []
          },
          "execution_count": 321
        }
      ]
    },
    {
      "cell_type": "markdown",
      "metadata": {
        "id": "g2K2zw7XHGPn"
      },
      "source": [
        "Data Cleaning"
      ]
    },
    {
      "cell_type": "code",
      "metadata": {
        "id": "H_wsnRmhGpXe"
      },
      "source": [
        "data['Vol.'] = data['Vol.'].str[:-1].astype(float) * 1000\n",
        "data['Change %'] = data['Change %'].str[:-1].astype(float) "
      ],
      "execution_count": null,
      "outputs": []
    },
    {
      "cell_type": "code",
      "metadata": {
        "id": "jt9jk6UyAn7J"
      },
      "source": [
        "data_train = data[data['Pred'].notna()]\n",
        "data_test = data[data['Pred'].isna()]"
      ],
      "execution_count": null,
      "outputs": []
    },
    {
      "cell_type": "code",
      "metadata": {
        "colab": {
          "base_uri": "https://localhost:8080/"
        },
        "id": "dPaEm4P0BAAB",
        "outputId": "2b7b2811-53d9-40dd-a915-52b8e96354ee"
      },
      "source": [
        "X = data_train.iloc[:, 0:6].values\n",
        "Y = data_train.iloc[:, 6].values\n",
        "x_train, x_test, y_train, y_test = train_test_split(X, Y, test_size=0.33, random_state=1)\n",
        "\n",
        "model = LinearRegression()\n",
        "model.fit(x_train, y_train)\n",
        "\n",
        "print('Regression coefficients : \\n')\n",
        "print('Slope : ', model.coef_)\n",
        "print('Intercept : ', model.intercept_)\n",
        "\n",
        "predictions = model.predict(x_test)\n",
        "\n",
        "mse = mean_squared_error(y_test, predictions)\n",
        "print(\"MSE: %.25f\" % mse)"
      ],
      "execution_count": null,
      "outputs": [
        {
          "output_type": "stream",
          "text": [
            "Regression coefficients : \n",
            "\n",
            "Slope :  [ 2.  3. -1. -4. -0. -0.]\n",
            "Intercept :  6.934897101018578e-12\n",
            "MSE: 0.0000000000000000000000444\n"
          ],
          "name": "stdout"
        }
      ]
    },
    {
      "cell_type": "markdown",
      "metadata": {
        "id": "eEw0E-yZF3Oa"
      },
      "source": [
        "From the value of the mean_squared_error it is clear that there is a linear relationship in between the OHLC prices and Pred.\n",
        "\n",
        "Our inference got strenghtened from the following plot :  "
      ]
    },
    {
      "cell_type": "code",
      "metadata": {
        "colab": {
          "base_uri": "https://localhost:8080/",
          "height": 483
        },
        "id": "29NjFMAnRSkk",
        "outputId": "87a324c7-2176-4624-8c06-85dfcc8bbb83"
      },
      "source": [
        "plt.figure(figsize=(20, 8))\n",
        "plt.plot(y_test, linestyle='-', color='k', marker='o', markersize=12)\n",
        "plt.plot(predictions, color='r', marker='*', markersize=9)\n",
        "plt.show()"
      ],
      "execution_count": null,
      "outputs": [
        {
          "output_type": "display_data",
          "data": {
            "image/png": "[encoded data removed]",
            "text/plain": [
              "<Figure size 1440x576 with 1 Axes>"
            ]
          },
          "metadata": {
            "tags": [],
            "needs_background": "light"
          }
        }
      ]
    },
    {
      "cell_type": "code",
      "metadata": {
        "colab": {
          "base_uri": "https://localhost:8080/",
          "height": 297
        },
        "id": "L-22AK39N7Op",
        "outputId": "49cf5ace-53d3-483a-969f-7c540100b811"
      },
      "source": [
        "x_1 = data_test.iloc[:, 0:6].values\n",
        "f_predictions = model.predict(x_1)\n",
        "data_test['Pred'] = f_predictions\n",
        "\n",
        "data = pd.concat([data_train, data_test])\n",
        "data.describe(include='all')"
      ],
      "execution_count": null,
      "outputs": [
        {
          "output_type": "execute_result",
          "data": {
            "text/html": [
              "<div>\n",
              "<style scoped>\n",
              "    .dataframe tbody tr th:only-of-type {\n",
              "        vertical-align: middle;\n",
              "    }\n",
              "\n",
              "    .dataframe tbody tr th {\n",
              "        vertical-align: top;\n",
              "    }\n",
              "\n",
              "    .dataframe thead th {\n",
              "        text-align: right;\n",
              "    }\n",
              "</style>\n",
              "<table border=\"1\" class=\"dataframe\">\n",
              "  <thead>\n",
              "    <tr style=\"text-align: right;\">\n",
              "      <th></th>\n",
              "      <th>Price</th>\n",
              "      <th>Open</th>\n",
              "      <th>High</th>\n",
              "      <th>Low</th>\n",
              "      <th>Vol.</th>\n",
              "      <th>Change %</th>\n",
              "      <th>Pred</th>\n",
              "      <th>new</th>\n",
              "    </tr>\n",
              "  </thead>\n",
              "  <tbody>\n",
              "    <tr>\n",
              "      <th>count</th>\n",
              "      <td>512.000000</td>\n",
              "      <td>512.000000</td>\n",
              "      <td>512.000000</td>\n",
              "      <td>512.000000</td>\n",
              "      <td>512.000000</td>\n",
              "      <td>512.000000</td>\n",
              "      <td>512.000000</td>\n",
              "      <td>512.000000</td>\n",
              "    </tr>\n",
              "    <tr>\n",
              "      <th>mean</th>\n",
              "      <td>30364.583984</td>\n",
              "      <td>30368.412109</td>\n",
              "      <td>30491.089844</td>\n",
              "      <td>30243.320312</td>\n",
              "      <td>7653.515625</td>\n",
              "      <td>0.019883</td>\n",
              "      <td>370.033203</td>\n",
              "      <td>245.161859</td>\n",
              "    </tr>\n",
              "    <tr>\n",
              "      <th>std</th>\n",
              "      <td>1284.378623</td>\n",
              "      <td>1296.856656</td>\n",
              "      <td>1307.031684</td>\n",
              "      <td>1271.936410</td>\n",
              "      <td>4137.838160</td>\n",
              "      <td>0.573099</td>\n",
              "      <td>341.296591</td>\n",
              "      <td>205.788897</td>\n",
              "    </tr>\n",
              "    <tr>\n",
              "      <th>min</th>\n",
              "      <td>27812.000000</td>\n",
              "      <td>27805.000000</td>\n",
              "      <td>27887.000000</td>\n",
              "      <td>27620.000000</td>\n",
              "      <td>20.000000</td>\n",
              "      <td>-1.790000</td>\n",
              "      <td>-146.000000</td>\n",
              "      <td>11.109814</td>\n",
              "    </tr>\n",
              "    <tr>\n",
              "      <th>25%</th>\n",
              "      <td>29432.500000</td>\n",
              "      <td>29436.750000</td>\n",
              "      <td>29499.750000</td>\n",
              "      <td>29345.750000</td>\n",
              "      <td>5770.000000</td>\n",
              "      <td>-0.330000</td>\n",
              "      <td>164.000000</td>\n",
              "      <td>101.369172</td>\n",
              "    </tr>\n",
              "    <tr>\n",
              "      <th>50%</th>\n",
              "      <td>30427.500000</td>\n",
              "      <td>30399.500000</td>\n",
              "      <td>30545.000000</td>\n",
              "      <td>30286.000000</td>\n",
              "      <td>7770.000000</td>\n",
              "      <td>0.005000</td>\n",
              "      <td>322.000000</td>\n",
              "      <td>184.537244</td>\n",
              "    </tr>\n",
              "    <tr>\n",
              "      <th>75%</th>\n",
              "      <td>31271.750000</td>\n",
              "      <td>31300.000000</td>\n",
              "      <td>31447.500000</td>\n",
              "      <td>31160.750000</td>\n",
              "      <td>10302.500000</td>\n",
              "      <td>0.330000</td>\n",
              "      <td>495.000000</td>\n",
              "      <td>320.835031</td>\n",
              "    </tr>\n",
              "    <tr>\n",
              "      <th>max</th>\n",
              "      <td>33753.000000</td>\n",
              "      <td>34247.000000</td>\n",
              "      <td>34400.000000</td>\n",
              "      <td>33680.000000</td>\n",
              "      <td>23800.000000</td>\n",
              "      <td>1.990000</td>\n",
              "      <td>3024.000000</td>\n",
              "      <td>1407.321485</td>\n",
              "    </tr>\n",
              "  </tbody>\n",
              "</table>\n",
              "</div>"
            ],
            "text/plain": [
              "              Price          Open  ...         Pred          new\n",
              "count    512.000000    512.000000  ...   512.000000   512.000000\n",
              "mean   30364.583984  30368.412109  ...   370.033203   245.161859\n",
              "std     1284.378623   1296.856656  ...   341.296591   205.788897\n",
              "min    27812.000000  27805.000000  ...  -146.000000    11.109814\n",
              "25%    29432.500000  29436.750000  ...   164.000000   101.369172\n",
              "50%    30427.500000  30399.500000  ...   322.000000   184.537244\n",
              "75%    31271.750000  31300.000000  ...   495.000000   320.835031\n",
              "max    33753.000000  34247.000000  ...  3024.000000  1407.321485\n",
              "\n",
              "[8 rows x 8 columns]"
            ]
          },
          "metadata": {
            "tags": []
          },
          "execution_count": 326
        }
      ]
    },
    {
      "cell_type": "markdown",
      "metadata": {
        "id": "MJdxxJkSOBTj"
      },
      "source": [
        "Thus predictions are made and dataframe got updated."
      ]
    },
    {
      "cell_type": "markdown",
      "metadata": {
        "id": "SlDM-i0mX0wZ"
      },
      "source": [
        "#3.2 "
      ]
    },
    {
      "cell_type": "markdown",
      "metadata": {
        "id": "rEvj6cYuX2ie"
      },
      "source": [
        "CAPM Analysis and Beta Calculation using linear regression\n",
        "CAPM(Capital Asset Pricing Model) attempts to price securities by examining the relationship that exists between expected returns and risk.\n",
        "\n",
        "Read more about CAPM. (Investopedia CAPM reference)\n",
        "\n",
        "The Beta of an asset is a measure of the sensitivity of its returns relative to a market benchmark (usually a market index). How sensitive/insensitive is the returns of an asset to the overall market returns (usually a market index like S&P 500 index). What happens when the market jumps, does the returns of the asset jump accordingly or jump somehow?\n",
        "\n",
        "Read more about Beta (Investopedia Beta reference)\n",
        "\n"
      ]
    },
    {
      "cell_type": "markdown",
      "metadata": {
        "id": "QGZ25xMzYCSi"
      },
      "source": [
        "Import the stock of your choosing AND the Nifty index.\n",
        "\n",
        "Using linear regression (OLS), calculate -\n",
        "\n",
        "The daily Beta value for the past 3 months. (Daily= Daily returns)\n",
        "\n",
        "The monthly Beta value. (Monthly= Monthly returns)\n",
        "\n",
        "Refrain from using the (covariance(x,y)/variance(x)) formula.\n",
        "\n",
        "Attempt the question using regression.(Regression Reference)\n",
        "\n",
        "Were the Beta values more or less than 1 ? What if it was negative ?\n",
        "\n",
        "Discuss. Include a brief writeup in the bottom of your jupyter notebook with your inferences from the Beta values and regression results"
      ]
    },
    {
      "cell_type": "markdown",
      "metadata": {
        "id": "51mMrpo7-S8p"
      },
      "source": [
        "**The daily Beta value for the past 3 months. (Daily= Daily returns)**"
      ]
    },
    {
      "cell_type": "code",
      "metadata": {
        "id": "2vzBUDeCYjBj"
      },
      "source": [
        "#from google.colab import files\n",
        "#uploaded = files.upload()"
      ],
      "execution_count": null,
      "outputs": []
    },
    {
      "cell_type": "code",
      "metadata": {
        "colab": {
          "base_uri": "https://localhost:8080/",
          "height": 637
        },
        "id": "48R7RmGLn2Ur",
        "outputId": "592a3521-11cb-4bcb-93a8-fcecdaa2a1ec"
      },
      "source": [
        "tcs_data_1 = pd.read_csv('TCS.csv')\n",
        "tcs_data = tcs_data_1.copy() \n",
        "tcs_data = tcs_data[tcs_data['Series']=='EQ']\n",
        "tcs_data.Date = pd.to_datetime(tcs_data['Date'])\n",
        "tcs_data.set_index('Date', inplace=True)\n",
        "tcs_data"
      ],
      "execution_count": null,
      "outputs": [
        {
          "output_type": "execute_result",
          "data": {
            "text/html": [
              "<div>\n",
              "<style scoped>\n",
              "    .dataframe tbody tr th:only-of-type {\n",
              "        vertical-align: middle;\n",
              "    }\n",
              "\n",
              "    .dataframe tbody tr th {\n",
              "        vertical-align: top;\n",
              "    }\n",
              "\n",
              "    .dataframe thead th {\n",
              "        text-align: right;\n",
              "    }\n",
              "</style>\n",
              "<table border=\"1\" class=\"dataframe\">\n",
              "  <thead>\n",
              "    <tr style=\"text-align: right;\">\n",
              "      <th></th>\n",
              "      <th>Symbol</th>\n",
              "      <th>Series</th>\n",
              "      <th>Prev Close</th>\n",
              "      <th>Open Price</th>\n",
              "      <th>High Price</th>\n",
              "      <th>Low Price</th>\n",
              "      <th>Last Price</th>\n",
              "      <th>Close Price</th>\n",
              "      <th>Average Price</th>\n",
              "      <th>Total Traded Quantity</th>\n",
              "      <th>Turnover</th>\n",
              "      <th>No. of Trades</th>\n",
              "      <th>Deliverable Qty</th>\n",
              "      <th>% Dly Qt to Traded Qty</th>\n",
              "    </tr>\n",
              "    <tr>\n",
              "      <th>Date</th>\n",
              "      <th></th>\n",
              "      <th></th>\n",
              "      <th></th>\n",
              "      <th></th>\n",
              "      <th></th>\n",
              "      <th></th>\n",
              "      <th></th>\n",
              "      <th></th>\n",
              "      <th></th>\n",
              "      <th></th>\n",
              "      <th></th>\n",
              "      <th></th>\n",
              "      <th></th>\n",
              "      <th></th>\n",
              "    </tr>\n",
              "  </thead>\n",
              "  <tbody>\n",
              "    <tr>\n",
              "      <th>2017-05-15</th>\n",
              "      <td>TCS</td>\n",
              "      <td>EQ</td>\n",
              "      <td>2360.65</td>\n",
              "      <td>2375.10</td>\n",
              "      <td>2377.95</td>\n",
              "      <td>2341.60</td>\n",
              "      <td>2368.00</td>\n",
              "      <td>2365.10</td>\n",
              "      <td>2352.60</td>\n",
              "      <td>908802</td>\n",
              "      <td>2.138043e+09</td>\n",
              "      <td>30047</td>\n",
              "      <td>712450</td>\n",
              "      <td>78.39</td>\n",
              "    </tr>\n",
              "    <tr>\n",
              "      <th>2017-05-16</th>\n",
              "      <td>TCS</td>\n",
              "      <td>EQ</td>\n",
              "      <td>2365.10</td>\n",
              "      <td>2380.00</td>\n",
              "      <td>2435.00</td>\n",
              "      <td>2373.45</td>\n",
              "      <td>2425.10</td>\n",
              "      <td>2429.15</td>\n",
              "      <td>2410.26</td>\n",
              "      <td>1800513</td>\n",
              "      <td>4.339703e+09</td>\n",
              "      <td>58476</td>\n",
              "      <td>1167534</td>\n",
              "      <td>64.84</td>\n",
              "    </tr>\n",
              "    <tr>\n",
              "      <th>2017-05-17</th>\n",
              "      <td>TCS</td>\n",
              "      <td>EQ</td>\n",
              "      <td>2429.15</td>\n",
              "      <td>2433.50</td>\n",
              "      <td>2460.75</td>\n",
              "      <td>2423.00</td>\n",
              "      <td>2450.00</td>\n",
              "      <td>2455.35</td>\n",
              "      <td>2443.31</td>\n",
              "      <td>1438099</td>\n",
              "      <td>3.513729e+09</td>\n",
              "      <td>86412</td>\n",
              "      <td>1031752</td>\n",
              "      <td>71.74</td>\n",
              "    </tr>\n",
              "    <tr>\n",
              "      <th>2017-05-18</th>\n",
              "      <td>TCS</td>\n",
              "      <td>EQ</td>\n",
              "      <td>2455.35</td>\n",
              "      <td>2450.00</td>\n",
              "      <td>2572.00</td>\n",
              "      <td>2442.25</td>\n",
              "      <td>2525.00</td>\n",
              "      <td>2536.20</td>\n",
              "      <td>2525.78</td>\n",
              "      <td>2569297</td>\n",
              "      <td>6.489478e+09</td>\n",
              "      <td>111566</td>\n",
              "      <td>1135613</td>\n",
              "      <td>44.20</td>\n",
              "    </tr>\n",
              "    <tr>\n",
              "      <th>2017-05-19</th>\n",
              "      <td>TCS</td>\n",
              "      <td>EQ</td>\n",
              "      <td>2536.20</td>\n",
              "      <td>2536.20</td>\n",
              "      <td>2540.55</td>\n",
              "      <td>2486.00</td>\n",
              "      <td>2503.85</td>\n",
              "      <td>2507.15</td>\n",
              "      <td>2506.58</td>\n",
              "      <td>893022</td>\n",
              "      <td>2.238430e+09</td>\n",
              "      <td>63112</td>\n",
              "      <td>517461</td>\n",
              "      <td>57.94</td>\n",
              "    </tr>\n",
              "    <tr>\n",
              "      <th>...</th>\n",
              "      <td>...</td>\n",
              "      <td>...</td>\n",
              "      <td>...</td>\n",
              "      <td>...</td>\n",
              "      <td>...</td>\n",
              "      <td>...</td>\n",
              "      <td>...</td>\n",
              "      <td>...</td>\n",
              "      <td>...</td>\n",
              "      <td>...</td>\n",
              "      <td>...</td>\n",
              "      <td>...</td>\n",
              "      <td>...</td>\n",
              "      <td>...</td>\n",
              "    </tr>\n",
              "    <tr>\n",
              "      <th>2019-05-07</th>\n",
              "      <td>TCS</td>\n",
              "      <td>EQ</td>\n",
              "      <td>2157.85</td>\n",
              "      <td>2160.05</td>\n",
              "      <td>2184.35</td>\n",
              "      <td>2138.80</td>\n",
              "      <td>2154.00</td>\n",
              "      <td>2151.95</td>\n",
              "      <td>2163.53</td>\n",
              "      <td>2201698</td>\n",
              "      <td>4.763441e+09</td>\n",
              "      <td>86096</td>\n",
              "      <td>975603</td>\n",
              "      <td>44.31</td>\n",
              "    </tr>\n",
              "    <tr>\n",
              "      <th>2019-05-08</th>\n",
              "      <td>TCS</td>\n",
              "      <td>EQ</td>\n",
              "      <td>2151.95</td>\n",
              "      <td>2151.00</td>\n",
              "      <td>2168.00</td>\n",
              "      <td>2130.40</td>\n",
              "      <td>2156.00</td>\n",
              "      <td>2152.85</td>\n",
              "      <td>2151.85</td>\n",
              "      <td>1824895</td>\n",
              "      <td>3.926902e+09</td>\n",
              "      <td>77713</td>\n",
              "      <td>781526</td>\n",
              "      <td>42.83</td>\n",
              "    </tr>\n",
              "    <tr>\n",
              "      <th>2019-05-09</th>\n",
              "      <td>TCS</td>\n",
              "      <td>EQ</td>\n",
              "      <td>2152.85</td>\n",
              "      <td>2145.00</td>\n",
              "      <td>2184.10</td>\n",
              "      <td>2136.10</td>\n",
              "      <td>2171.20</td>\n",
              "      <td>2172.55</td>\n",
              "      <td>2166.98</td>\n",
              "      <td>2264162</td>\n",
              "      <td>4.906405e+09</td>\n",
              "      <td>106297</td>\n",
              "      <td>1251459</td>\n",
              "      <td>55.27</td>\n",
              "    </tr>\n",
              "    <tr>\n",
              "      <th>2019-05-10</th>\n",
              "      <td>TCS</td>\n",
              "      <td>EQ</td>\n",
              "      <td>2172.55</td>\n",
              "      <td>2175.00</td>\n",
              "      <td>2192.00</td>\n",
              "      <td>2125.85</td>\n",
              "      <td>2130.25</td>\n",
              "      <td>2135.80</td>\n",
              "      <td>2161.83</td>\n",
              "      <td>2039633</td>\n",
              "      <td>4.409349e+09</td>\n",
              "      <td>85446</td>\n",
              "      <td>873181</td>\n",
              "      <td>42.81</td>\n",
              "    </tr>\n",
              "    <tr>\n",
              "      <th>2019-05-13</th>\n",
              "      <td>TCS</td>\n",
              "      <td>EQ</td>\n",
              "      <td>2135.80</td>\n",
              "      <td>2133.00</td>\n",
              "      <td>2167.00</td>\n",
              "      <td>2121.65</td>\n",
              "      <td>2134.00</td>\n",
              "      <td>2128.75</td>\n",
              "      <td>2143.87</td>\n",
              "      <td>1701744</td>\n",
              "      <td>3.648325e+09</td>\n",
              "      <td>74014</td>\n",
              "      <td>677242</td>\n",
              "      <td>39.80</td>\n",
              "    </tr>\n",
              "  </tbody>\n",
              "</table>\n",
              "<p>494 rows × 14 columns</p>\n",
              "</div>"
            ],
            "text/plain": [
              "           Symbol Series  ...  Deliverable Qty  % Dly Qt to Traded Qty\n",
              "Date                      ...                                         \n",
              "2017-05-15    TCS     EQ  ...           712450                   78.39\n",
              "2017-05-16    TCS     EQ  ...          1167534                   64.84\n",
              "2017-05-17    TCS     EQ  ...          1031752                   71.74\n",
              "2017-05-18    TCS     EQ  ...          1135613                   44.20\n",
              "2017-05-19    TCS     EQ  ...           517461                   57.94\n",
              "...           ...    ...  ...              ...                     ...\n",
              "2019-05-07    TCS     EQ  ...           975603                   44.31\n",
              "2019-05-08    TCS     EQ  ...           781526                   42.83\n",
              "2019-05-09    TCS     EQ  ...          1251459                   55.27\n",
              "2019-05-10    TCS     EQ  ...           873181                   42.81\n",
              "2019-05-13    TCS     EQ  ...           677242                   39.80\n",
              "\n",
              "[494 rows x 14 columns]"
            ]
          },
          "metadata": {
            "tags": []
          },
          "execution_count": 58
        }
      ]
    },
    {
      "cell_type": "code",
      "metadata": {
        "colab": {
          "base_uri": "https://localhost:8080/"
        },
        "id": "JszgNbkOoEat",
        "outputId": "bcf6db3e-0e36-442e-83fe-868e7442d6c4"
      },
      "source": [
        "nifty_1 = pd.read_csv('Nifty50.csv')\n",
        "nifty = nifty_1.copy()\n",
        "print(nifty)\n",
        "nifty.Date = pd.to_datetime(nifty.Date)\n",
        "nifty.set_index('Date', inplace=True)"
      ],
      "execution_count": null,
      "outputs": [
        {
          "output_type": "stream",
          "text": [
            "            Date      Open  ...  Shares Traded  Turnover (Rs. Cr)\n",
            "0    15-May-2017   9433.55  ...      145163953            7790.97\n",
            "1    16-May-2017   9461.00  ...      171709433            9209.89\n",
            "2    17-May-2017   9517.60  ...      211856040           10726.23\n",
            "3    18-May-2017   9453.20  ...      199340647           10782.46\n",
            "4    19-May-2017   9469.90  ...      259861396           11544.77\n",
            "..           ...       ...  ...            ...                ...\n",
            "489  07-May-2019  11651.50  ...      337495624           16632.84\n",
            "490  08-May-2019  11478.70  ...      372826025           17440.01\n",
            "491  09-May-2019  11322.40  ...      373028059           17602.86\n",
            "492  10-May-2019  11314.15  ...      387323416           18085.19\n",
            "493  13-May-2019  11258.70  ...      357586433           16722.91\n",
            "\n",
            "[494 rows x 7 columns]\n"
          ],
          "name": "stdout"
        }
      ]
    },
    {
      "cell_type": "code",
      "metadata": {
        "colab": {
          "base_uri": "https://localhost:8080/"
        },
        "id": "9ptSXEY_2fL3",
        "outputId": "bc0b7ab8-29b3-404d-e822-b0ad2e035f90"
      },
      "source": [
        "df_close_pct = pd.DataFrame({'Nifty50': nifty['Close'].pct_change(),\n",
        "                         'TCS': tcs_data['Close Price'].pct_change()}).dropna()\n",
        "df_close_pct_last3 = df_close_pct.last('3M')\n",
        "\n",
        "# Splitting into the dependent and independent varible\n",
        "x = df_close_pct_last3['Nifty50']\n",
        "y = df_close_pct_last3['TCS']\n",
        "\n",
        "# Adding a constant to the independent value\n",
        "x1 = sm.add_constant(x)\n",
        "\n",
        "# make the regression model\n",
        "model = sm.OLS(y, x1) # Ordinary least squares Linear Regression\n",
        "\n",
        "# fitting the model\n",
        "results = model.fit()\n",
        "print(results.summary())"
      ],
      "execution_count": null,
      "outputs": [
        {
          "output_type": "stream",
          "text": [
            "                            OLS Regression Results                            \n",
            "==============================================================================\n",
            "Dep. Variable:                    TCS   R-squared:                       0.087\n",
            "Model:                            OLS   Adj. R-squared:                  0.067\n",
            "Method:                 Least Squares   F-statistic:                     4.211\n",
            "Date:                Sun, 28 Feb 2021   Prob (F-statistic):             0.0462\n",
            "Time:                        15:05:07   Log-Likelihood:                 130.91\n",
            "No. Observations:                  46   AIC:                            -257.8\n",
            "Df Residuals:                      44   BIC:                            -254.2\n",
            "Df Model:                           1                                         \n",
            "Covariance Type:            nonrobust                                         \n",
            "==============================================================================\n",
            "                 coef    std err          t      P>|t|      [0.025      0.975]\n",
            "------------------------------------------------------------------------------\n",
            "const          0.0012      0.002      0.562      0.577      -0.003       0.005\n",
            "Nifty50        0.6138      0.299      2.052      0.046       0.011       1.217\n",
            "==============================================================================\n",
            "Omnibus:                        4.606   Durbin-Watson:                   1.955\n",
            "Prob(Omnibus):                  0.100   Jarque-Bera (JB):                5.141\n",
            "Skew:                           0.108   Prob(JB):                       0.0765\n",
            "Kurtosis:                       4.623   Cond. No.                         141.\n",
            "==============================================================================\n",
            "\n",
            "Warnings:\n",
            "[1] Standard Errors assume that the covariance matrix of the errors is correctly specified.\n"
          ],
          "name": "stdout"
        }
      ]
    },
    {
      "cell_type": "markdown",
      "metadata": {
        "id": "XghpObCA58xY"
      },
      "source": [
        "**The monthly Beta value. (Monthly= Monthly returns)**"
      ]
    },
    {
      "cell_type": "code",
      "metadata": {
        "colab": {
          "base_uri": "https://localhost:8080/",
          "height": 421
        },
        "id": "uTgo7EzM-gM5",
        "outputId": "8a16d9d5-7bc6-4c87-e5b5-73898bd8c305"
      },
      "source": [
        "nifty_1.Date = pd.to_datetime(nifty_1.Date)\n",
        "tcs_data_1.Date =  pd.to_datetime(tcs_data_1.Date)\n",
        "\n",
        "nifty_1['Month'] = nifty_1['Date'].dt.month\n",
        "tcs_data_1['Month'] = tcs_data_1['Date'].dt.month\n",
        "\n",
        "mon_data = pd.DataFrame({'Nifty50': nifty_1.groupby('Month').sum()['Close'],\n",
        "                         'TCS': tcs_data_1.groupby('Month').sum()['Close Price']}).pct_change().dropna()\n",
        "mon_data"
      ],
      "execution_count": null,
      "outputs": [
        {
          "output_type": "execute_result",
          "data": {
            "text/html": [
              "<div>\n",
              "<style scoped>\n",
              "    .dataframe tbody tr th:only-of-type {\n",
              "        vertical-align: middle;\n",
              "    }\n",
              "\n",
              "    .dataframe tbody tr th {\n",
              "        vertical-align: top;\n",
              "    }\n",
              "\n",
              "    .dataframe thead th {\n",
              "        text-align: right;\n",
              "    }\n",
              "</style>\n",
              "<table border=\"1\" class=\"dataframe\">\n",
              "  <thead>\n",
              "    <tr style=\"text-align: right;\">\n",
              "      <th></th>\n",
              "      <th>Nifty50</th>\n",
              "      <th>TCS</th>\n",
              "    </tr>\n",
              "    <tr>\n",
              "      <th>Month</th>\n",
              "      <th></th>\n",
              "      <th></th>\n",
              "    </tr>\n",
              "  </thead>\n",
              "  <tbody>\n",
              "    <tr>\n",
              "      <th>2</th>\n",
              "      <td>-0.141638</td>\n",
              "      <td>-0.034609</td>\n",
              "    </tr>\n",
              "    <tr>\n",
              "      <th>3</th>\n",
              "      <td>-0.017654</td>\n",
              "      <td>-0.076422</td>\n",
              "    </tr>\n",
              "    <tr>\n",
              "      <th>4</th>\n",
              "      <td>0.078513</td>\n",
              "      <td>0.117180</td>\n",
              "    </tr>\n",
              "    <tr>\n",
              "      <th>5</th>\n",
              "      <td>0.018402</td>\n",
              "      <td>0.172321</td>\n",
              "    </tr>\n",
              "    <tr>\n",
              "      <th>6</th>\n",
              "      <td>-0.049747</td>\n",
              "      <td>-0.285649</td>\n",
              "    </tr>\n",
              "    <tr>\n",
              "      <th>7</th>\n",
              "      <td>0.049864</td>\n",
              "      <td>0.052284</td>\n",
              "    </tr>\n",
              "    <tr>\n",
              "      <th>8</th>\n",
              "      <td>0.001636</td>\n",
              "      <td>0.006366</td>\n",
              "    </tr>\n",
              "    <tr>\n",
              "      <th>9</th>\n",
              "      <td>-0.081240</td>\n",
              "      <td>-0.050007</td>\n",
              "    </tr>\n",
              "    <tr>\n",
              "      <th>10</th>\n",
              "      <td>0.019255</td>\n",
              "      <td>0.024078</td>\n",
              "    </tr>\n",
              "    <tr>\n",
              "      <th>11</th>\n",
              "      <td>0.044547</td>\n",
              "      <td>0.055025</td>\n",
              "    </tr>\n",
              "    <tr>\n",
              "      <th>12</th>\n",
              "      <td>-0.039962</td>\n",
              "      <td>-0.057613</td>\n",
              "    </tr>\n",
              "  </tbody>\n",
              "</table>\n",
              "</div>"
            ],
            "text/plain": [
              "        Nifty50       TCS\n",
              "Month                    \n",
              "2     -0.141638 -0.034609\n",
              "3     -0.017654 -0.076422\n",
              "4      0.078513  0.117180\n",
              "5      0.018402  0.172321\n",
              "6     -0.049747 -0.285649\n",
              "7      0.049864  0.052284\n",
              "8      0.001636  0.006366\n",
              "9     -0.081240 -0.050007\n",
              "10     0.019255  0.024078\n",
              "11     0.044547  0.055025\n",
              "12    -0.039962 -0.057613"
            ]
          },
          "metadata": {
            "tags": []
          },
          "execution_count": 66
        }
      ]
    },
    {
      "cell_type": "code",
      "metadata": {
        "id": "iI7qCRcYA8b-",
        "colab": {
          "base_uri": "https://localhost:8080/"
        },
        "outputId": "8522a713-fe53-4433-8836-5347c3de2739"
      },
      "source": [
        "Y_month = mon_data['TCS']\n",
        "X_month = mon_data['Nifty50']\n",
        "\n",
        "# Add a constant to the independent value\n",
        "X1_month = sm.add_constant(X_month)\n",
        "\n",
        "# make regression model\n",
        "model = sm.OLS(Y_month, X1_month)\n",
        "\n",
        "# fit model and print results\n",
        "results = model.fit()\n",
        "print(results.summary())"
      ],
      "execution_count": null,
      "outputs": [
        {
          "output_type": "stream",
          "text": [
            "                            OLS Regression Results                            \n",
            "==============================================================================\n",
            "Dep. Variable:                    TCS   R-squared:                       0.326\n",
            "Model:                            OLS   Adj. R-squared:                  0.251\n",
            "Method:                 Least Squares   F-statistic:                     4.355\n",
            "Date:                Sun, 28 Feb 2021   Prob (F-statistic):             0.0665\n",
            "Time:                        15:08:00   Log-Likelihood:                 10.420\n",
            "No. Observations:                  11   AIC:                            -16.84\n",
            "Df Residuals:                       9   BIC:                            -16.04\n",
            "Df Model:                           1                                         \n",
            "Covariance Type:            nonrobust                                         \n",
            "==============================================================================\n",
            "                 coef    std err          t      P>|t|      [0.025      0.975]\n",
            "------------------------------------------------------------------------------\n",
            "const          0.0044      0.032      0.140      0.892      -0.067       0.076\n",
            "Nifty50        1.0675      0.512      2.087      0.067      -0.090       2.225\n",
            "==============================================================================\n",
            "Omnibus:                        6.979   Durbin-Watson:                   2.659\n",
            "Prob(Omnibus):                  0.031   Jarque-Bera (JB):                2.722\n",
            "Skew:                          -0.972   Prob(JB):                        0.256\n",
            "Kurtosis:                       4.470   Cond. No.                         16.4\n",
            "==============================================================================\n",
            "\n",
            "Warnings:\n",
            "[1] Standard Errors assume that the covariance matrix of the errors is correctly specified.\n"
          ],
          "name": "stdout"
        }
      ]
    },
    {
      "cell_type": "markdown",
      "metadata": {
        "id": "qmcWjx81M5uU"
      },
      "source": [
        "**Inferences from the Beta values and regression results**"
      ]
    },
    {
      "cell_type": "markdown",
      "metadata": {
        "id": "Ua6qwtzOLpTT"
      },
      "source": [
        "A stock with a beta of\n",
        "\n",
        "zero: indicates no correlation with the chosen benchmark \n",
        "\n",
        "one: indicates a stock has the same volatility as the market\n",
        "\n",
        "more than one: indicates a stock that’s more volatile than its benchmark\n",
        "\n",
        "less than one: is less volatile than the benchmark\n",
        "\n",
        "1.5 is 50% more volatile than the benchmark.\n",
        "\n",
        "As our beta value of 3 months is 0.6138 , it means the stock is less volatile than the benchmark.\n",
        "\n",
        "And monthly beta value is 1.0675 means that the stock is little bit more volatile than the benchmark.\n",
        "\n",
        "A beta less than 0, which would indicate an inverse relation to the market, is possible but highly unlikely."
      ]
    },
    {
      "cell_type": "code",
      "metadata": {
        "id": "TBSaVsBgMsv4"
      },
      "source": [
        ""
      ],
      "execution_count": null,
      "outputs": []
    }
  ]
}