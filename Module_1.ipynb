{
  "nbformat": 4,
  "nbformat_minor": 0,
  "metadata": {
    "colab": {
      "name": "Module 1.ipynb",
      "provenance": [],
      "authorship_tag": "ABX9TyM7Y9kkzDg4p5WGxnlGkl3H",
      "include_colab_link": true
    },
    "kernelspec": {
      "name": "python3",
      "display_name": "Python 3"
    }
  },
  "cells": [
    {
      "cell_type": "markdown",
      "metadata": {
        "id": "view-in-github",
        "colab_type": "text"
      },
      "source": [
        "<a href=\"https://colab.research.google.com/github/rishi-29-02/Hinduatan-Unilever-Dataset/blob/main/Module_1.ipynb\" target=\"_parent\"><img src=\"https://colab.research.google.com/assets/colab-badge.svg\" alt=\"Open In Colab\"/></a>"
      ]
    },
    {
      "cell_type": "markdown",
      "metadata": {
        "id": "4LcE09iEY0gX"
      },
      "source": [
        "##Module 1"
      ]
    },
    {
      "cell_type": "markdown",
      "metadata": {
        "id": "Edxrj7UPvRlI"
      },
      "source": [
        "In Module 1, we are going to get familier with pandas, the python module which we use to process and analyze data. Processing could include removing unknown values from the data or replacing unknown values with the values which make sense, maybe 0. Analyzing the data could include finding out the trend of the stock price, e.g. how the stock prices changes with Nifty 50 Basket of stocks."
      ]
    },
    {
      "cell_type": "markdown",
      "metadata": {
        "id": "vN0gGK6gY79z"
      },
      "source": [
        "#1.1"
      ]
    },
    {
      "cell_type": "markdown",
      "metadata": {
        "id": "6NkWVVOevLnd"
      },
      "source": [
        "Import the csv file of the Hindustan Unilever stock. Shares of a company can be offered in more than one category. The category of the stock is indicated in 'Series' column. If the csv file has data on more than one category, the 'Date' column will have repeating values. To avoid repititions in the date, remove all the rows where 'Series' column is NOT \"EQ\". Analuyze and understand each column properly. One can use head(), tail() for this."
      ]
    },
    {
      "cell_type": "code",
      "metadata": {
        "id": "iUcoBnLbzI0b"
      },
      "source": [
        "import numpy as np\n",
        "import pandas as pd\n",
        "import matplotlib.pyplot as plt"
      ],
      "execution_count": 50,
      "outputs": []
    },
    {
      "cell_type": "code",
      "metadata": {
        "id": "QWJnU-4I026B"
      },
      "source": [
        "#from google.colab import files\n",
        "#ploadded = files.upload()"
      ],
      "execution_count": 51,
      "outputs": []
    },
    {
      "cell_type": "code",
      "metadata": {
        "colab": {
          "base_uri": "https://localhost:8080/",
          "height": 0
        },
        "id": "0avY5ml4BScI",
        "outputId": "df7e1661-83c8-4c79-f689-0b7724bba753"
      },
      "source": [
        "data = pd.read_csv('HINDUNILVR.csv')\n",
        "data.head()"
      ],
      "execution_count": 52,
      "outputs": [
        {
          "output_type": "execute_result",
          "data": {
            "text/html": [
              "<div>\n",
              "<style scoped>\n",
              "    .dataframe tbody tr th:only-of-type {\n",
              "        vertical-align: middle;\n",
              "    }\n",
              "\n",
              "    .dataframe tbody tr th {\n",
              "        vertical-align: top;\n",
              "    }\n",
              "\n",
              "    .dataframe thead th {\n",
              "        text-align: right;\n",
              "    }\n",
              "</style>\n",
              "<table border=\"1\" class=\"dataframe\">\n",
              "  <thead>\n",
              "    <tr style=\"text-align: right;\">\n",
              "      <th></th>\n",
              "      <th>Symbol</th>\n",
              "      <th>Series</th>\n",
              "      <th>Date</th>\n",
              "      <th>Prev Close</th>\n",
              "      <th>Open Price</th>\n",
              "      <th>High Price</th>\n",
              "      <th>Low Price</th>\n",
              "      <th>Last Price</th>\n",
              "      <th>Close Price</th>\n",
              "      <th>Average Price</th>\n",
              "      <th>Total Traded Quantity</th>\n",
              "      <th>Turnover</th>\n",
              "      <th>No. of Trades</th>\n",
              "      <th>Deliverable Qty</th>\n",
              "      <th>% Dly Qt to Traded Qty</th>\n",
              "    </tr>\n",
              "  </thead>\n",
              "  <tbody>\n",
              "    <tr>\n",
              "      <th>0</th>\n",
              "      <td>HINDUNILVR</td>\n",
              "      <td>EQ</td>\n",
              "      <td>15-May-2017</td>\n",
              "      <td>980.20</td>\n",
              "      <td>981.3</td>\n",
              "      <td>988.85</td>\n",
              "      <td>974.55</td>\n",
              "      <td>982.5</td>\n",
              "      <td>983.25</td>\n",
              "      <td>980.72</td>\n",
              "      <td>734446</td>\n",
              "      <td>7.202888e+08</td>\n",
              "      <td>32976</td>\n",
              "      <td>420159</td>\n",
              "      <td>57.21</td>\n",
              "    </tr>\n",
              "    <tr>\n",
              "      <th>1</th>\n",
              "      <td>HINDUNILVR</td>\n",
              "      <td>EQ</td>\n",
              "      <td>16-May-2017</td>\n",
              "      <td>983.25</td>\n",
              "      <td>983.0</td>\n",
              "      <td>1002.50</td>\n",
              "      <td>982.05</td>\n",
              "      <td>999.5</td>\n",
              "      <td>1000.40</td>\n",
              "      <td>994.00</td>\n",
              "      <td>1503815</td>\n",
              "      <td>1.494798e+09</td>\n",
              "      <td>39717</td>\n",
              "      <td>669576</td>\n",
              "      <td>44.53</td>\n",
              "    </tr>\n",
              "    <tr>\n",
              "      <th>2</th>\n",
              "      <td>HINDUNILVR</td>\n",
              "      <td>EQ</td>\n",
              "      <td>17-May-2017</td>\n",
              "      <td>1000.40</td>\n",
              "      <td>1004.0</td>\n",
              "      <td>1012.00</td>\n",
              "      <td>991.10</td>\n",
              "      <td>1009.0</td>\n",
              "      <td>1009.40</td>\n",
              "      <td>1003.84</td>\n",
              "      <td>1999387</td>\n",
              "      <td>2.007056e+09</td>\n",
              "      <td>63210</td>\n",
              "      <td>996054</td>\n",
              "      <td>49.82</td>\n",
              "    </tr>\n",
              "    <tr>\n",
              "      <th>3</th>\n",
              "      <td>HINDUNILVR</td>\n",
              "      <td>EQ</td>\n",
              "      <td>18-May-2017</td>\n",
              "      <td>1009.40</td>\n",
              "      <td>1008.0</td>\n",
              "      <td>1009.00</td>\n",
              "      <td>983.00</td>\n",
              "      <td>987.5</td>\n",
              "      <td>990.25</td>\n",
              "      <td>997.56</td>\n",
              "      <td>2690943</td>\n",
              "      <td>2.684374e+09</td>\n",
              "      <td>78098</td>\n",
              "      <td>983594</td>\n",
              "      <td>36.55</td>\n",
              "    </tr>\n",
              "    <tr>\n",
              "      <th>4</th>\n",
              "      <td>HINDUNILVR</td>\n",
              "      <td>EQ</td>\n",
              "      <td>19-May-2017</td>\n",
              "      <td>990.25</td>\n",
              "      <td>1000.0</td>\n",
              "      <td>1022.75</td>\n",
              "      <td>1000.00</td>\n",
              "      <td>1004.1</td>\n",
              "      <td>1008.00</td>\n",
              "      <td>1009.97</td>\n",
              "      <td>3059815</td>\n",
              "      <td>3.090316e+09</td>\n",
              "      <td>57429</td>\n",
              "      <td>1523108</td>\n",
              "      <td>49.78</td>\n",
              "    </tr>\n",
              "  </tbody>\n",
              "</table>\n",
              "</div>"
            ],
            "text/plain": [
              "       Symbol Series  ... Deliverable Qty  % Dly Qt to Traded Qty\n",
              "0  HINDUNILVR     EQ  ...          420159                   57.21\n",
              "1  HINDUNILVR     EQ  ...          669576                   44.53\n",
              "2  HINDUNILVR     EQ  ...          996054                   49.82\n",
              "3  HINDUNILVR     EQ  ...          983594                   36.55\n",
              "4  HINDUNILVR     EQ  ...         1523108                   49.78\n",
              "\n",
              "[5 rows x 15 columns]"
            ]
          },
          "metadata": {
            "tags": []
          },
          "execution_count": 52
        }
      ]
    },
    {
      "cell_type": "code",
      "metadata": {
        "colab": {
          "base_uri": "https://localhost:8080/"
        },
        "id": "XAmJ-yQrBwPN",
        "outputId": "619ff02b-e66f-466d-e866-82b8532105cf"
      },
      "source": [
        "data.shape"
      ],
      "execution_count": 53,
      "outputs": [
        {
          "output_type": "execute_result",
          "data": {
            "text/plain": [
              "(495, 15)"
            ]
          },
          "metadata": {
            "tags": []
          },
          "execution_count": 53
        }
      ]
    },
    {
      "cell_type": "markdown",
      "metadata": {
        "id": "-CW_FdpJB0-R"
      },
      "source": [
        "Therfore the data contains 495 intances and 15 features."
      ]
    },
    {
      "cell_type": "code",
      "metadata": {
        "colab": {
          "base_uri": "https://localhost:8080/",
          "height": 0
        },
        "id": "IhPwgK6PBY7e",
        "outputId": "563b56ea-cd1e-408f-9915-a9c399515048"
      },
      "source": [
        "data.describe(include='all')"
      ],
      "execution_count": 54,
      "outputs": [
        {
          "output_type": "execute_result",
          "data": {
            "text/html": [
              "<div>\n",
              "<style scoped>\n",
              "    .dataframe tbody tr th:only-of-type {\n",
              "        vertical-align: middle;\n",
              "    }\n",
              "\n",
              "    .dataframe tbody tr th {\n",
              "        vertical-align: top;\n",
              "    }\n",
              "\n",
              "    .dataframe thead th {\n",
              "        text-align: right;\n",
              "    }\n",
              "</style>\n",
              "<table border=\"1\" class=\"dataframe\">\n",
              "  <thead>\n",
              "    <tr style=\"text-align: right;\">\n",
              "      <th></th>\n",
              "      <th>Symbol</th>\n",
              "      <th>Series</th>\n",
              "      <th>Date</th>\n",
              "      <th>Prev Close</th>\n",
              "      <th>Open Price</th>\n",
              "      <th>High Price</th>\n",
              "      <th>Low Price</th>\n",
              "      <th>Last Price</th>\n",
              "      <th>Close Price</th>\n",
              "      <th>Average Price</th>\n",
              "      <th>Total Traded Quantity</th>\n",
              "      <th>Turnover</th>\n",
              "      <th>No. of Trades</th>\n",
              "      <th>Deliverable Qty</th>\n",
              "      <th>% Dly Qt to Traded Qty</th>\n",
              "    </tr>\n",
              "  </thead>\n",
              "  <tbody>\n",
              "    <tr>\n",
              "      <th>count</th>\n",
              "      <td>495</td>\n",
              "      <td>495</td>\n",
              "      <td>495</td>\n",
              "      <td>495.000000</td>\n",
              "      <td>495.000000</td>\n",
              "      <td>495.000000</td>\n",
              "      <td>495.000000</td>\n",
              "      <td>495.000000</td>\n",
              "      <td>495.000000</td>\n",
              "      <td>495.000000</td>\n",
              "      <td>4.950000e+02</td>\n",
              "      <td>4.950000e+02</td>\n",
              "      <td>495.000000</td>\n",
              "      <td>4.950000e+02</td>\n",
              "      <td>495.000000</td>\n",
              "    </tr>\n",
              "    <tr>\n",
              "      <th>unique</th>\n",
              "      <td>1</td>\n",
              "      <td>2</td>\n",
              "      <td>494</td>\n",
              "      <td>NaN</td>\n",
              "      <td>NaN</td>\n",
              "      <td>NaN</td>\n",
              "      <td>NaN</td>\n",
              "      <td>NaN</td>\n",
              "      <td>NaN</td>\n",
              "      <td>NaN</td>\n",
              "      <td>NaN</td>\n",
              "      <td>NaN</td>\n",
              "      <td>NaN</td>\n",
              "      <td>NaN</td>\n",
              "      <td>NaN</td>\n",
              "    </tr>\n",
              "    <tr>\n",
              "      <th>top</th>\n",
              "      <td>HINDUNILVR</td>\n",
              "      <td>EQ</td>\n",
              "      <td>22-Mar-2019</td>\n",
              "      <td>NaN</td>\n",
              "      <td>NaN</td>\n",
              "      <td>NaN</td>\n",
              "      <td>NaN</td>\n",
              "      <td>NaN</td>\n",
              "      <td>NaN</td>\n",
              "      <td>NaN</td>\n",
              "      <td>NaN</td>\n",
              "      <td>NaN</td>\n",
              "      <td>NaN</td>\n",
              "      <td>NaN</td>\n",
              "      <td>NaN</td>\n",
              "    </tr>\n",
              "    <tr>\n",
              "      <th>freq</th>\n",
              "      <td>495</td>\n",
              "      <td>494</td>\n",
              "      <td>2</td>\n",
              "      <td>NaN</td>\n",
              "      <td>NaN</td>\n",
              "      <td>NaN</td>\n",
              "      <td>NaN</td>\n",
              "      <td>NaN</td>\n",
              "      <td>NaN</td>\n",
              "      <td>NaN</td>\n",
              "      <td>NaN</td>\n",
              "      <td>NaN</td>\n",
              "      <td>NaN</td>\n",
              "      <td>NaN</td>\n",
              "      <td>NaN</td>\n",
              "    </tr>\n",
              "    <tr>\n",
              "      <th>mean</th>\n",
              "      <td>NaN</td>\n",
              "      <td>NaN</td>\n",
              "      <td>NaN</td>\n",
              "      <td>1471.880606</td>\n",
              "      <td>1476.030000</td>\n",
              "      <td>1490.100404</td>\n",
              "      <td>1461.095051</td>\n",
              "      <td>1476.214343</td>\n",
              "      <td>1476.063131</td>\n",
              "      <td>1475.538606</td>\n",
              "      <td>1.321513e+06</td>\n",
              "      <td>1.975549e+09</td>\n",
              "      <td>55185.028283</td>\n",
              "      <td>8.010867e+05</td>\n",
              "      <td>61.639313</td>\n",
              "    </tr>\n",
              "    <tr>\n",
              "      <th>std</th>\n",
              "      <td>NaN</td>\n",
              "      <td>NaN</td>\n",
              "      <td>NaN</td>\n",
              "      <td>246.301360</td>\n",
              "      <td>241.366451</td>\n",
              "      <td>243.352844</td>\n",
              "      <td>238.995178</td>\n",
              "      <td>240.488532</td>\n",
              "      <td>240.334763</td>\n",
              "      <td>240.930749</td>\n",
              "      <td>6.718872e+05</td>\n",
              "      <td>1.111380e+09</td>\n",
              "      <td>25546.920839</td>\n",
              "      <td>3.867355e+05</td>\n",
              "      <td>11.399872</td>\n",
              "    </tr>\n",
              "    <tr>\n",
              "      <th>min</th>\n",
              "      <td>NaN</td>\n",
              "      <td>NaN</td>\n",
              "      <td>NaN</td>\n",
              "      <td>339.000000</td>\n",
              "      <td>981.300000</td>\n",
              "      <td>988.850000</td>\n",
              "      <td>974.550000</td>\n",
              "      <td>982.500000</td>\n",
              "      <td>983.250000</td>\n",
              "      <td>980.720000</td>\n",
              "      <td>6.783500e+04</td>\n",
              "      <td>8.551879e+07</td>\n",
              "      <td>1.000000</td>\n",
              "      <td>1.869800e+04</td>\n",
              "      <td>20.390000</td>\n",
              "    </tr>\n",
              "    <tr>\n",
              "      <th>25%</th>\n",
              "      <td>NaN</td>\n",
              "      <td>NaN</td>\n",
              "      <td>NaN</td>\n",
              "      <td>1266.725000</td>\n",
              "      <td>1269.700000</td>\n",
              "      <td>1279.925000</td>\n",
              "      <td>1253.850000</td>\n",
              "      <td>1269.100000</td>\n",
              "      <td>1268.225000</td>\n",
              "      <td>1267.525000</td>\n",
              "      <td>8.619580e+05</td>\n",
              "      <td>1.193191e+09</td>\n",
              "      <td>35806.500000</td>\n",
              "      <td>5.274245e+05</td>\n",
              "      <td>55.020000</td>\n",
              "    </tr>\n",
              "    <tr>\n",
              "      <th>50%</th>\n",
              "      <td>NaN</td>\n",
              "      <td>NaN</td>\n",
              "      <td>NaN</td>\n",
              "      <td>1497.900000</td>\n",
              "      <td>1496.900000</td>\n",
              "      <td>1514.000000</td>\n",
              "      <td>1485.100000</td>\n",
              "      <td>1504.350000</td>\n",
              "      <td>1504.100000</td>\n",
              "      <td>1499.630000</td>\n",
              "      <td>1.198943e+06</td>\n",
              "      <td>1.759136e+09</td>\n",
              "      <td>51883.000000</td>\n",
              "      <td>7.525270e+05</td>\n",
              "      <td>63.640000</td>\n",
              "    </tr>\n",
              "    <tr>\n",
              "      <th>75%</th>\n",
              "      <td>NaN</td>\n",
              "      <td>NaN</td>\n",
              "      <td>NaN</td>\n",
              "      <td>1697.525000</td>\n",
              "      <td>1698.800000</td>\n",
              "      <td>1716.500000</td>\n",
              "      <td>1682.650000</td>\n",
              "      <td>1699.050000</td>\n",
              "      <td>1697.975000</td>\n",
              "      <td>1701.170000</td>\n",
              "      <td>1.571803e+06</td>\n",
              "      <td>2.462888e+09</td>\n",
              "      <td>69413.000000</td>\n",
              "      <td>9.602335e+05</td>\n",
              "      <td>69.405000</td>\n",
              "    </tr>\n",
              "    <tr>\n",
              "      <th>max</th>\n",
              "      <td>NaN</td>\n",
              "      <td>NaN</td>\n",
              "      <td>NaN</td>\n",
              "      <td>1860.550000</td>\n",
              "      <td>1865.000000</td>\n",
              "      <td>1869.500000</td>\n",
              "      <td>1845.050000</td>\n",
              "      <td>1860.550000</td>\n",
              "      <td>1860.550000</td>\n",
              "      <td>1855.700000</td>\n",
              "      <td>6.188478e+06</td>\n",
              "      <td>1.059919e+10</td>\n",
              "      <td>165557.000000</td>\n",
              "      <td>3.019009e+06</td>\n",
              "      <td>100.000000</td>\n",
              "    </tr>\n",
              "  </tbody>\n",
              "</table>\n",
              "</div>"
            ],
            "text/plain": [
              "            Symbol Series  ... Deliverable Qty  % Dly Qt to Traded Qty\n",
              "count          495    495  ...    4.950000e+02              495.000000\n",
              "unique           1      2  ...             NaN                     NaN\n",
              "top     HINDUNILVR     EQ  ...             NaN                     NaN\n",
              "freq           495    494  ...             NaN                     NaN\n",
              "mean           NaN    NaN  ...    8.010867e+05               61.639313\n",
              "std            NaN    NaN  ...    3.867355e+05               11.399872\n",
              "min            NaN    NaN  ...    1.869800e+04               20.390000\n",
              "25%            NaN    NaN  ...    5.274245e+05               55.020000\n",
              "50%            NaN    NaN  ...    7.525270e+05               63.640000\n",
              "75%            NaN    NaN  ...    9.602335e+05               69.405000\n",
              "max            NaN    NaN  ...    3.019009e+06              100.000000\n",
              "\n",
              "[11 rows x 15 columns]"
            ]
          },
          "metadata": {
            "tags": []
          },
          "execution_count": 54
        }
      ]
    },
    {
      "cell_type": "markdown",
      "metadata": {
        "id": "CX3WKC3YBq03"
      },
      "source": [
        "The dataset has no missing values.\n",
        "But the Series feature have two unique values."
      ]
    },
    {
      "cell_type": "markdown",
      "metadata": {
        "id": "39DFEFrlCD4m"
      },
      "source": [
        "Thus removing the NOT EQ values from the Series feature."
      ]
    },
    {
      "cell_type": "code",
      "metadata": {
        "colab": {
          "base_uri": "https://localhost:8080/",
          "height": 0
        },
        "id": "StrQmc-vG0j_",
        "outputId": "b5e2362e-9af5-453e-c168-81e116712ee4"
      },
      "source": [
        "data[data.Series!='EQ']"
      ],
      "execution_count": 55,
      "outputs": [
        {
          "output_type": "execute_result",
          "data": {
            "text/html": [
              "<div>\n",
              "<style scoped>\n",
              "    .dataframe tbody tr th:only-of-type {\n",
              "        vertical-align: middle;\n",
              "    }\n",
              "\n",
              "    .dataframe tbody tr th {\n",
              "        vertical-align: top;\n",
              "    }\n",
              "\n",
              "    .dataframe thead th {\n",
              "        text-align: right;\n",
              "    }\n",
              "</style>\n",
              "<table border=\"1\" class=\"dataframe\">\n",
              "  <thead>\n",
              "    <tr style=\"text-align: right;\">\n",
              "      <th></th>\n",
              "      <th>Symbol</th>\n",
              "      <th>Series</th>\n",
              "      <th>Date</th>\n",
              "      <th>Prev Close</th>\n",
              "      <th>Open Price</th>\n",
              "      <th>High Price</th>\n",
              "      <th>Low Price</th>\n",
              "      <th>Last Price</th>\n",
              "      <th>Close Price</th>\n",
              "      <th>Average Price</th>\n",
              "      <th>Total Traded Quantity</th>\n",
              "      <th>Turnover</th>\n",
              "      <th>No. of Trades</th>\n",
              "      <th>Deliverable Qty</th>\n",
              "      <th>% Dly Qt to Traded Qty</th>\n",
              "    </tr>\n",
              "  </thead>\n",
              "  <tbody>\n",
              "    <tr>\n",
              "      <th>461</th>\n",
              "      <td>HINDUNILVR</td>\n",
              "      <td>BL</td>\n",
              "      <td>22-Mar-2019</td>\n",
              "      <td>339.0</td>\n",
              "      <td>1687.55</td>\n",
              "      <td>1687.55</td>\n",
              "      <td>1687.55</td>\n",
              "      <td>1687.55</td>\n",
              "      <td>1687.55</td>\n",
              "      <td>1687.55</td>\n",
              "      <td>516930</td>\n",
              "      <td>872345221.5</td>\n",
              "      <td>1</td>\n",
              "      <td>516930</td>\n",
              "      <td>100.0</td>\n",
              "    </tr>\n",
              "  </tbody>\n",
              "</table>\n",
              "</div>"
            ],
            "text/plain": [
              "         Symbol Series  ... Deliverable Qty  % Dly Qt to Traded Qty\n",
              "461  HINDUNILVR     BL  ...          516930                   100.0\n",
              "\n",
              "[1 rows x 15 columns]"
            ]
          },
          "metadata": {
            "tags": []
          },
          "execution_count": 55
        }
      ]
    },
    {
      "cell_type": "code",
      "metadata": {
        "id": "qQc4jm-ZEz9F"
      },
      "source": [
        "data = data[data.Series=='EQ']"
      ],
      "execution_count": 56,
      "outputs": []
    },
    {
      "cell_type": "code",
      "metadata": {
        "colab": {
          "base_uri": "https://localhost:8080/"
        },
        "id": "Mq1VT85dE5tJ",
        "outputId": "ec3ba152-ab77-459d-931c-ea82b3c6ec99"
      },
      "source": [
        "data.shape"
      ],
      "execution_count": 57,
      "outputs": [
        {
          "output_type": "execute_result",
          "data": {
            "text/plain": [
              "(494, 15)"
            ]
          },
          "metadata": {
            "tags": []
          },
          "execution_count": 57
        }
      ]
    },
    {
      "cell_type": "markdown",
      "metadata": {
        "id": "cJnvF1f1ZBf9"
      },
      "source": [
        "#1.2"
      ]
    },
    {
      "cell_type": "markdown",
      "metadata": {
        "id": "Y6o8Uzu-sOoM"
      },
      "source": [
        "Calculate the maximum, minimum and the mean price for the last 90 days. (price=closing price until stated otherwise)"
      ]
    },
    {
      "cell_type": "markdown",
      "metadata": {
        "id": "7QTUPMHqJaeY"
      },
      "source": [
        "Data for the last 90 days."
      ]
    },
    {
      "cell_type": "code",
      "metadata": {
        "colab": {
          "base_uri": "https://localhost:8080/",
          "height": 0
        },
        "id": "uWLO-_Tyvd6t",
        "outputId": "7c828e3d-00fa-4410-8ac9-ba33db05e5e8"
      },
      "source": [
        "data_1 = data.loc[404:, :]\n",
        "data_1"
      ],
      "execution_count": 58,
      "outputs": [
        {
          "output_type": "execute_result",
          "data": {
            "text/html": [
              "<div>\n",
              "<style scoped>\n",
              "    .dataframe tbody tr th:only-of-type {\n",
              "        vertical-align: middle;\n",
              "    }\n",
              "\n",
              "    .dataframe tbody tr th {\n",
              "        vertical-align: top;\n",
              "    }\n",
              "\n",
              "    .dataframe thead th {\n",
              "        text-align: right;\n",
              "    }\n",
              "</style>\n",
              "<table border=\"1\" class=\"dataframe\">\n",
              "  <thead>\n",
              "    <tr style=\"text-align: right;\">\n",
              "      <th></th>\n",
              "      <th>Symbol</th>\n",
              "      <th>Series</th>\n",
              "      <th>Date</th>\n",
              "      <th>Prev Close</th>\n",
              "      <th>Open Price</th>\n",
              "      <th>High Price</th>\n",
              "      <th>Low Price</th>\n",
              "      <th>Last Price</th>\n",
              "      <th>Close Price</th>\n",
              "      <th>Average Price</th>\n",
              "      <th>Total Traded Quantity</th>\n",
              "      <th>Turnover</th>\n",
              "      <th>No. of Trades</th>\n",
              "      <th>Deliverable Qty</th>\n",
              "      <th>% Dly Qt to Traded Qty</th>\n",
              "    </tr>\n",
              "  </thead>\n",
              "  <tbody>\n",
              "    <tr>\n",
              "      <th>404</th>\n",
              "      <td>HINDUNILVR</td>\n",
              "      <td>EQ</td>\n",
              "      <td>31-Dec-2018</td>\n",
              "      <td>1822.05</td>\n",
              "      <td>1830.00</td>\n",
              "      <td>1836.90</td>\n",
              "      <td>1811.25</td>\n",
              "      <td>1817.90</td>\n",
              "      <td>1819.65</td>\n",
              "      <td>1820.78</td>\n",
              "      <td>757071</td>\n",
              "      <td>1.378463e+09</td>\n",
              "      <td>29700</td>\n",
              "      <td>412583</td>\n",
              "      <td>54.50</td>\n",
              "    </tr>\n",
              "    <tr>\n",
              "      <th>405</th>\n",
              "      <td>HINDUNILVR</td>\n",
              "      <td>EQ</td>\n",
              "      <td>01-Jan-2019</td>\n",
              "      <td>1819.65</td>\n",
              "      <td>1824.80</td>\n",
              "      <td>1824.80</td>\n",
              "      <td>1798.35</td>\n",
              "      <td>1799.00</td>\n",
              "      <td>1801.10</td>\n",
              "      <td>1804.57</td>\n",
              "      <td>807345</td>\n",
              "      <td>1.456911e+09</td>\n",
              "      <td>23385</td>\n",
              "      <td>438072</td>\n",
              "      <td>54.26</td>\n",
              "    </tr>\n",
              "    <tr>\n",
              "      <th>406</th>\n",
              "      <td>HINDUNILVR</td>\n",
              "      <td>EQ</td>\n",
              "      <td>02-Jan-2019</td>\n",
              "      <td>1801.10</td>\n",
              "      <td>1792.40</td>\n",
              "      <td>1808.85</td>\n",
              "      <td>1771.30</td>\n",
              "      <td>1781.00</td>\n",
              "      <td>1784.60</td>\n",
              "      <td>1786.89</td>\n",
              "      <td>1598707</td>\n",
              "      <td>2.856719e+09</td>\n",
              "      <td>58293</td>\n",
              "      <td>993011</td>\n",
              "      <td>62.11</td>\n",
              "    </tr>\n",
              "    <tr>\n",
              "      <th>407</th>\n",
              "      <td>HINDUNILVR</td>\n",
              "      <td>EQ</td>\n",
              "      <td>03-Jan-2019</td>\n",
              "      <td>1784.60</td>\n",
              "      <td>1782.60</td>\n",
              "      <td>1803.45</td>\n",
              "      <td>1782.60</td>\n",
              "      <td>1785.00</td>\n",
              "      <td>1788.40</td>\n",
              "      <td>1792.38</td>\n",
              "      <td>1182624</td>\n",
              "      <td>2.119709e+09</td>\n",
              "      <td>60197</td>\n",
              "      <td>680871</td>\n",
              "      <td>57.57</td>\n",
              "    </tr>\n",
              "    <tr>\n",
              "      <th>408</th>\n",
              "      <td>HINDUNILVR</td>\n",
              "      <td>EQ</td>\n",
              "      <td>04-Jan-2019</td>\n",
              "      <td>1788.40</td>\n",
              "      <td>1798.90</td>\n",
              "      <td>1802.00</td>\n",
              "      <td>1772.15</td>\n",
              "      <td>1780.00</td>\n",
              "      <td>1781.70</td>\n",
              "      <td>1784.94</td>\n",
              "      <td>1454134</td>\n",
              "      <td>2.595537e+09</td>\n",
              "      <td>79115</td>\n",
              "      <td>862409</td>\n",
              "      <td>59.31</td>\n",
              "    </tr>\n",
              "    <tr>\n",
              "      <th>...</th>\n",
              "      <td>...</td>\n",
              "      <td>...</td>\n",
              "      <td>...</td>\n",
              "      <td>...</td>\n",
              "      <td>...</td>\n",
              "      <td>...</td>\n",
              "      <td>...</td>\n",
              "      <td>...</td>\n",
              "      <td>...</td>\n",
              "      <td>...</td>\n",
              "      <td>...</td>\n",
              "      <td>...</td>\n",
              "      <td>...</td>\n",
              "      <td>...</td>\n",
              "      <td>...</td>\n",
              "    </tr>\n",
              "    <tr>\n",
              "      <th>490</th>\n",
              "      <td>HINDUNILVR</td>\n",
              "      <td>EQ</td>\n",
              "      <td>07-May-2019</td>\n",
              "      <td>1668.90</td>\n",
              "      <td>1678.80</td>\n",
              "      <td>1710.90</td>\n",
              "      <td>1672.50</td>\n",
              "      <td>1697.50</td>\n",
              "      <td>1697.50</td>\n",
              "      <td>1700.33</td>\n",
              "      <td>2212617</td>\n",
              "      <td>3.762183e+09</td>\n",
              "      <td>83971</td>\n",
              "      <td>1248858</td>\n",
              "      <td>56.44</td>\n",
              "    </tr>\n",
              "    <tr>\n",
              "      <th>491</th>\n",
              "      <td>HINDUNILVR</td>\n",
              "      <td>EQ</td>\n",
              "      <td>08-May-2019</td>\n",
              "      <td>1697.50</td>\n",
              "      <td>1697.50</td>\n",
              "      <td>1697.50</td>\n",
              "      <td>1675.00</td>\n",
              "      <td>1690.15</td>\n",
              "      <td>1688.70</td>\n",
              "      <td>1686.13</td>\n",
              "      <td>1243338</td>\n",
              "      <td>2.096428e+09</td>\n",
              "      <td>105328</td>\n",
              "      <td>849935</td>\n",
              "      <td>68.36</td>\n",
              "    </tr>\n",
              "    <tr>\n",
              "      <th>492</th>\n",
              "      <td>HINDUNILVR</td>\n",
              "      <td>EQ</td>\n",
              "      <td>09-May-2019</td>\n",
              "      <td>1688.70</td>\n",
              "      <td>1680.10</td>\n",
              "      <td>1713.00</td>\n",
              "      <td>1677.00</td>\n",
              "      <td>1702.45</td>\n",
              "      <td>1703.75</td>\n",
              "      <td>1695.24</td>\n",
              "      <td>1204995</td>\n",
              "      <td>2.042757e+09</td>\n",
              "      <td>96629</td>\n",
              "      <td>821111</td>\n",
              "      <td>68.14</td>\n",
              "    </tr>\n",
              "    <tr>\n",
              "      <th>493</th>\n",
              "      <td>HINDUNILVR</td>\n",
              "      <td>EQ</td>\n",
              "      <td>10-May-2019</td>\n",
              "      <td>1703.75</td>\n",
              "      <td>1708.95</td>\n",
              "      <td>1709.00</td>\n",
              "      <td>1678.50</td>\n",
              "      <td>1686.00</td>\n",
              "      <td>1687.45</td>\n",
              "      <td>1694.39</td>\n",
              "      <td>1000696</td>\n",
              "      <td>1.695567e+09</td>\n",
              "      <td>98364</td>\n",
              "      <td>581135</td>\n",
              "      <td>58.07</td>\n",
              "    </tr>\n",
              "    <tr>\n",
              "      <th>494</th>\n",
              "      <td>HINDUNILVR</td>\n",
              "      <td>EQ</td>\n",
              "      <td>13-May-2019</td>\n",
              "      <td>1687.45</td>\n",
              "      <td>1692.00</td>\n",
              "      <td>1717.00</td>\n",
              "      <td>1688.70</td>\n",
              "      <td>1699.10</td>\n",
              "      <td>1702.00</td>\n",
              "      <td>1705.60</td>\n",
              "      <td>1160287</td>\n",
              "      <td>1.978984e+09</td>\n",
              "      <td>55814</td>\n",
              "      <td>653294</td>\n",
              "      <td>56.30</td>\n",
              "    </tr>\n",
              "  </tbody>\n",
              "</table>\n",
              "<p>90 rows × 15 columns</p>\n",
              "</div>"
            ],
            "text/plain": [
              "         Symbol Series  ... Deliverable Qty  % Dly Qt to Traded Qty\n",
              "404  HINDUNILVR     EQ  ...          412583                   54.50\n",
              "405  HINDUNILVR     EQ  ...          438072                   54.26\n",
              "406  HINDUNILVR     EQ  ...          993011                   62.11\n",
              "407  HINDUNILVR     EQ  ...          680871                   57.57\n",
              "408  HINDUNILVR     EQ  ...          862409                   59.31\n",
              "..          ...    ...  ...             ...                     ...\n",
              "490  HINDUNILVR     EQ  ...         1248858                   56.44\n",
              "491  HINDUNILVR     EQ  ...          849935                   68.36\n",
              "492  HINDUNILVR     EQ  ...          821111                   68.14\n",
              "493  HINDUNILVR     EQ  ...          581135                   58.07\n",
              "494  HINDUNILVR     EQ  ...          653294                   56.30\n",
              "\n",
              "[90 rows x 15 columns]"
            ]
          },
          "metadata": {
            "tags": []
          },
          "execution_count": 58
        }
      ]
    },
    {
      "cell_type": "markdown",
      "metadata": {
        "id": "FkArlReQvjAm"
      },
      "source": [
        "Maximum Price"
      ]
    },
    {
      "cell_type": "code",
      "metadata": {
        "colab": {
          "base_uri": "https://localhost:8080/"
        },
        "id": "q2YcEhAfIb3b",
        "outputId": "9177f0eb-893f-4356-ac5a-6c4c860c142e"
      },
      "source": [
        "data_1['Close Price'].max()"
      ],
      "execution_count": 59,
      "outputs": [
        {
          "output_type": "execute_result",
          "data": {
            "text/plain": [
              "1839.05"
            ]
          },
          "metadata": {
            "tags": []
          },
          "execution_count": 59
        }
      ]
    },
    {
      "cell_type": "markdown",
      "metadata": {
        "id": "hlDQ9HenIkBG"
      },
      "source": [
        "Minimum Price"
      ]
    },
    {
      "cell_type": "code",
      "metadata": {
        "colab": {
          "base_uri": "https://localhost:8080/"
        },
        "id": "3zjY3CKYIqUb",
        "outputId": "49142255-bf22-4c2c-c5db-085d967a2d31"
      },
      "source": [
        "data_1['Close Price'].min()"
      ],
      "execution_count": 60,
      "outputs": [
        {
          "output_type": "execute_result",
          "data": {
            "text/plain": [
              "1659.1"
            ]
          },
          "metadata": {
            "tags": []
          },
          "execution_count": 60
        }
      ]
    },
    {
      "cell_type": "markdown",
      "metadata": {
        "id": "ikySJD23IuCq"
      },
      "source": [
        "Mean Price"
      ]
    },
    {
      "cell_type": "code",
      "metadata": {
        "colab": {
          "base_uri": "https://localhost:8080/"
        },
        "id": "M6m8w7HjIyCT",
        "outputId": "5a42d074-06ec-4dfa-94fa-220319237b25"
      },
      "source": [
        "data_1['Close Price'].mean()"
      ],
      "execution_count": 61,
      "outputs": [
        {
          "output_type": "execute_result",
          "data": {
            "text/plain": [
              "1739.6955555555562"
            ]
          },
          "metadata": {
            "tags": []
          },
          "execution_count": 61
        }
      ]
    },
    {
      "cell_type": "markdown",
      "metadata": {
        "id": "S5nogayyJUEv"
      },
      "source": [
        "#1.3"
      ]
    },
    {
      "cell_type": "markdown",
      "metadata": {
        "id": "03BBOMlaM0rI"
      },
      "source": [
        "Analyze the data types for each column in the dataframe. Pandas knows how to deal with dates in an intellegent manner. But to make use of Pandas functionality for dates, you need to ensure that the column is of type 'datetime64(ns)'. Change the date column from 'object type to 'datetime64(ns)' for future convinience. See what happens if we subtract minimum value of the date column from maximum value."
      ]
    },
    {
      "cell_type": "code",
      "metadata": {
        "colab": {
          "base_uri": "https://localhost:8080/"
        },
        "id": "CyeReDzRLjou",
        "outputId": "5bedb9b1-99f1-4a1d-c1b5-ec05b0e36971"
      },
      "source": [
        "data.dtypes"
      ],
      "execution_count": 62,
      "outputs": [
        {
          "output_type": "execute_result",
          "data": {
            "text/plain": [
              "Symbol                     object\n",
              "Series                     object\n",
              "Date                       object\n",
              "Prev Close                float64\n",
              "Open Price                float64\n",
              "High Price                float64\n",
              "Low Price                 float64\n",
              "Last Price                float64\n",
              "Close Price               float64\n",
              "Average Price             float64\n",
              "Total Traded Quantity       int64\n",
              "Turnover                  float64\n",
              "No. of Trades               int64\n",
              "Deliverable Qty             int64\n",
              "% Dly Qt to Traded Qty    float64\n",
              "dtype: object"
            ]
          },
          "metadata": {
            "tags": []
          },
          "execution_count": 62
        }
      ]
    },
    {
      "cell_type": "markdown",
      "metadata": {
        "id": "NSXMKF6eLpap"
      },
      "source": [
        "As the date feature is of object and therefore changing it to 'datetime64(ns)'"
      ]
    },
    {
      "cell_type": "code",
      "metadata": {
        "colab": {
          "base_uri": "https://localhost:8080/"
        },
        "id": "Vh7rzVlZL9_1",
        "outputId": "2712c755-865c-45cf-ded7-8e8e1c314862"
      },
      "source": [
        "data['Date'] = data.Date.astype('datetime64[ns]')\n",
        "data.dtypes"
      ],
      "execution_count": 63,
      "outputs": [
        {
          "output_type": "execute_result",
          "data": {
            "text/plain": [
              "Symbol                            object\n",
              "Series                            object\n",
              "Date                      datetime64[ns]\n",
              "Prev Close                       float64\n",
              "Open Price                       float64\n",
              "High Price                       float64\n",
              "Low Price                        float64\n",
              "Last Price                       float64\n",
              "Close Price                      float64\n",
              "Average Price                    float64\n",
              "Total Traded Quantity              int64\n",
              "Turnover                         float64\n",
              "No. of Trades                      int64\n",
              "Deliverable Qty                    int64\n",
              "% Dly Qt to Traded Qty           float64\n",
              "dtype: object"
            ]
          },
          "metadata": {
            "tags": []
          },
          "execution_count": 63
        }
      ]
    },
    {
      "cell_type": "markdown",
      "metadata": {
        "id": "TDG9Mqw4MRo3"
      },
      "source": [
        "Subtracting the minimum value of the date column from maximum value."
      ]
    },
    {
      "cell_type": "code",
      "metadata": {
        "colab": {
          "base_uri": "https://localhost:8080/"
        },
        "id": "WuOKxpmbNPfU",
        "outputId": "4d9dba1f-f42e-4236-cca2-3ac3b45fa91a"
      },
      "source": [
        "data['Date'].max()-data['Date'].min()"
      ],
      "execution_count": 64,
      "outputs": [
        {
          "output_type": "execute_result",
          "data": {
            "text/plain": [
              "Timedelta('728 days 00:00:00')"
            ]
          },
          "metadata": {
            "tags": []
          },
          "execution_count": 64
        }
      ]
    },
    {
      "cell_type": "markdown",
      "metadata": {
        "id": "f_08vwOnNVFd"
      },
      "source": [
        "Thus we get the total no. of days contained in the dataset."
      ]
    },
    {
      "cell_type": "markdown",
      "metadata": {
        "id": "rCI9ADxjNeRL"
      },
      "source": [
        "#1.4"
      ]
    },
    {
      "cell_type": "markdown",
      "metadata": {
        "id": "XGK342trNl8P"
      },
      "source": [
        "In a seperate array calculate the monthwise VMAP (Volume Weighted Average Price)."
      ]
    },
    {
      "cell_type": "code",
      "metadata": {
        "colab": {
          "base_uri": "https://localhost:8080/",
          "height": 0
        },
        "id": "XimZyu9YPLxy",
        "outputId": "16c39e17-0eea-4518-9235-5bd8442abc65"
      },
      "source": [
        "data['Month'] = data['Date'].dt.month\n",
        "data['Year'] = data['Date'].dt.year \n",
        "data['VMAP'] = (data['Close Price'] * data['Total Traded Quantity']).cumsum(skipna=True)/data['Total Traded Quantity'].cumsum(skipna=True)\n",
        "data"
      ],
      "execution_count": 65,
      "outputs": [
        {
          "output_type": "execute_result",
          "data": {
            "text/html": [
              "<div>\n",
              "<style scoped>\n",
              "    .dataframe tbody tr th:only-of-type {\n",
              "        vertical-align: middle;\n",
              "    }\n",
              "\n",
              "    .dataframe tbody tr th {\n",
              "        vertical-align: top;\n",
              "    }\n",
              "\n",
              "    .dataframe thead th {\n",
              "        text-align: right;\n",
              "    }\n",
              "</style>\n",
              "<table border=\"1\" class=\"dataframe\">\n",
              "  <thead>\n",
              "    <tr style=\"text-align: right;\">\n",
              "      <th></th>\n",
              "      <th>Symbol</th>\n",
              "      <th>Series</th>\n",
              "      <th>Date</th>\n",
              "      <th>Prev Close</th>\n",
              "      <th>Open Price</th>\n",
              "      <th>High Price</th>\n",
              "      <th>Low Price</th>\n",
              "      <th>Last Price</th>\n",
              "      <th>Close Price</th>\n",
              "      <th>Average Price</th>\n",
              "      <th>Total Traded Quantity</th>\n",
              "      <th>Turnover</th>\n",
              "      <th>No. of Trades</th>\n",
              "      <th>Deliverable Qty</th>\n",
              "      <th>% Dly Qt to Traded Qty</th>\n",
              "      <th>Month</th>\n",
              "      <th>Year</th>\n",
              "      <th>VMAP</th>\n",
              "    </tr>\n",
              "  </thead>\n",
              "  <tbody>\n",
              "    <tr>\n",
              "      <th>0</th>\n",
              "      <td>HINDUNILVR</td>\n",
              "      <td>EQ</td>\n",
              "      <td>2017-05-15</td>\n",
              "      <td>980.20</td>\n",
              "      <td>981.30</td>\n",
              "      <td>988.85</td>\n",
              "      <td>974.55</td>\n",
              "      <td>982.50</td>\n",
              "      <td>983.25</td>\n",
              "      <td>980.72</td>\n",
              "      <td>734446</td>\n",
              "      <td>7.202888e+08</td>\n",
              "      <td>32976</td>\n",
              "      <td>420159</td>\n",
              "      <td>57.21</td>\n",
              "      <td>5</td>\n",
              "      <td>2017</td>\n",
              "      <td>983.250000</td>\n",
              "    </tr>\n",
              "    <tr>\n",
              "      <th>1</th>\n",
              "      <td>HINDUNILVR</td>\n",
              "      <td>EQ</td>\n",
              "      <td>2017-05-16</td>\n",
              "      <td>983.25</td>\n",
              "      <td>983.00</td>\n",
              "      <td>1002.50</td>\n",
              "      <td>982.05</td>\n",
              "      <td>999.50</td>\n",
              "      <td>1000.40</td>\n",
              "      <td>994.00</td>\n",
              "      <td>1503815</td>\n",
              "      <td>1.494798e+09</td>\n",
              "      <td>39717</td>\n",
              "      <td>669576</td>\n",
              "      <td>44.53</td>\n",
              "      <td>5</td>\n",
              "      <td>2017</td>\n",
              "      <td>994.772529</td>\n",
              "    </tr>\n",
              "    <tr>\n",
              "      <th>2</th>\n",
              "      <td>HINDUNILVR</td>\n",
              "      <td>EQ</td>\n",
              "      <td>2017-05-17</td>\n",
              "      <td>1000.40</td>\n",
              "      <td>1004.00</td>\n",
              "      <td>1012.00</td>\n",
              "      <td>991.10</td>\n",
              "      <td>1009.00</td>\n",
              "      <td>1009.40</td>\n",
              "      <td>1003.84</td>\n",
              "      <td>1999387</td>\n",
              "      <td>2.007056e+09</td>\n",
              "      <td>63210</td>\n",
              "      <td>996054</td>\n",
              "      <td>49.82</td>\n",
              "      <td>5</td>\n",
              "      <td>2017</td>\n",
              "      <td>1001.673993</td>\n",
              "    </tr>\n",
              "    <tr>\n",
              "      <th>3</th>\n",
              "      <td>HINDUNILVR</td>\n",
              "      <td>EQ</td>\n",
              "      <td>2017-05-18</td>\n",
              "      <td>1009.40</td>\n",
              "      <td>1008.00</td>\n",
              "      <td>1009.00</td>\n",
              "      <td>983.00</td>\n",
              "      <td>987.50</td>\n",
              "      <td>990.25</td>\n",
              "      <td>997.56</td>\n",
              "      <td>2690943</td>\n",
              "      <td>2.684374e+09</td>\n",
              "      <td>78098</td>\n",
              "      <td>983594</td>\n",
              "      <td>36.55</td>\n",
              "      <td>5</td>\n",
              "      <td>2017</td>\n",
              "      <td>997.237115</td>\n",
              "    </tr>\n",
              "    <tr>\n",
              "      <th>4</th>\n",
              "      <td>HINDUNILVR</td>\n",
              "      <td>EQ</td>\n",
              "      <td>2017-05-19</td>\n",
              "      <td>990.25</td>\n",
              "      <td>1000.00</td>\n",
              "      <td>1022.75</td>\n",
              "      <td>1000.00</td>\n",
              "      <td>1004.10</td>\n",
              "      <td>1008.00</td>\n",
              "      <td>1009.97</td>\n",
              "      <td>3059815</td>\n",
              "      <td>3.090316e+09</td>\n",
              "      <td>57429</td>\n",
              "      <td>1523108</td>\n",
              "      <td>49.78</td>\n",
              "      <td>5</td>\n",
              "      <td>2017</td>\n",
              "      <td>1000.534181</td>\n",
              "    </tr>\n",
              "    <tr>\n",
              "      <th>...</th>\n",
              "      <td>...</td>\n",
              "      <td>...</td>\n",
              "      <td>...</td>\n",
              "      <td>...</td>\n",
              "      <td>...</td>\n",
              "      <td>...</td>\n",
              "      <td>...</td>\n",
              "      <td>...</td>\n",
              "      <td>...</td>\n",
              "      <td>...</td>\n",
              "      <td>...</td>\n",
              "      <td>...</td>\n",
              "      <td>...</td>\n",
              "      <td>...</td>\n",
              "      <td>...</td>\n",
              "      <td>...</td>\n",
              "      <td>...</td>\n",
              "      <td>...</td>\n",
              "    </tr>\n",
              "    <tr>\n",
              "      <th>490</th>\n",
              "      <td>HINDUNILVR</td>\n",
              "      <td>EQ</td>\n",
              "      <td>2019-05-07</td>\n",
              "      <td>1668.90</td>\n",
              "      <td>1678.80</td>\n",
              "      <td>1710.90</td>\n",
              "      <td>1672.50</td>\n",
              "      <td>1697.50</td>\n",
              "      <td>1697.50</td>\n",
              "      <td>1700.33</td>\n",
              "      <td>2212617</td>\n",
              "      <td>3.762183e+09</td>\n",
              "      <td>83971</td>\n",
              "      <td>1248858</td>\n",
              "      <td>56.44</td>\n",
              "      <td>5</td>\n",
              "      <td>2019</td>\n",
              "      <td>1493.746449</td>\n",
              "    </tr>\n",
              "    <tr>\n",
              "      <th>491</th>\n",
              "      <td>HINDUNILVR</td>\n",
              "      <td>EQ</td>\n",
              "      <td>2019-05-08</td>\n",
              "      <td>1697.50</td>\n",
              "      <td>1697.50</td>\n",
              "      <td>1697.50</td>\n",
              "      <td>1675.00</td>\n",
              "      <td>1690.15</td>\n",
              "      <td>1688.70</td>\n",
              "      <td>1686.13</td>\n",
              "      <td>1243338</td>\n",
              "      <td>2.096428e+09</td>\n",
              "      <td>105328</td>\n",
              "      <td>849935</td>\n",
              "      <td>68.36</td>\n",
              "      <td>5</td>\n",
              "      <td>2019</td>\n",
              "      <td>1494.119209</td>\n",
              "    </tr>\n",
              "    <tr>\n",
              "      <th>492</th>\n",
              "      <td>HINDUNILVR</td>\n",
              "      <td>EQ</td>\n",
              "      <td>2019-05-09</td>\n",
              "      <td>1688.70</td>\n",
              "      <td>1680.10</td>\n",
              "      <td>1713.00</td>\n",
              "      <td>1677.00</td>\n",
              "      <td>1702.45</td>\n",
              "      <td>1703.75</td>\n",
              "      <td>1695.24</td>\n",
              "      <td>1204995</td>\n",
              "      <td>2.042757e+09</td>\n",
              "      <td>96629</td>\n",
              "      <td>821111</td>\n",
              "      <td>68.14</td>\n",
              "      <td>5</td>\n",
              "      <td>2019</td>\n",
              "      <td>1494.506954</td>\n",
              "    </tr>\n",
              "    <tr>\n",
              "      <th>493</th>\n",
              "      <td>HINDUNILVR</td>\n",
              "      <td>EQ</td>\n",
              "      <td>2019-05-10</td>\n",
              "      <td>1703.75</td>\n",
              "      <td>1708.95</td>\n",
              "      <td>1709.00</td>\n",
              "      <td>1678.50</td>\n",
              "      <td>1686.00</td>\n",
              "      <td>1687.45</td>\n",
              "      <td>1694.39</td>\n",
              "      <td>1000696</td>\n",
              "      <td>1.695567e+09</td>\n",
              "      <td>98364</td>\n",
              "      <td>581135</td>\n",
              "      <td>58.07</td>\n",
              "      <td>5</td>\n",
              "      <td>2019</td>\n",
              "      <td>1494.802870</td>\n",
              "    </tr>\n",
              "    <tr>\n",
              "      <th>494</th>\n",
              "      <td>HINDUNILVR</td>\n",
              "      <td>EQ</td>\n",
              "      <td>2019-05-13</td>\n",
              "      <td>1687.45</td>\n",
              "      <td>1692.00</td>\n",
              "      <td>1717.00</td>\n",
              "      <td>1688.70</td>\n",
              "      <td>1699.10</td>\n",
              "      <td>1702.00</td>\n",
              "      <td>1705.60</td>\n",
              "      <td>1160287</td>\n",
              "      <td>1.978984e+09</td>\n",
              "      <td>55814</td>\n",
              "      <td>653294</td>\n",
              "      <td>56.30</td>\n",
              "      <td>5</td>\n",
              "      <td>2019</td>\n",
              "      <td>1495.170674</td>\n",
              "    </tr>\n",
              "  </tbody>\n",
              "</table>\n",
              "<p>494 rows × 18 columns</p>\n",
              "</div>"
            ],
            "text/plain": [
              "         Symbol Series       Date  ...  Month  Year         VMAP\n",
              "0    HINDUNILVR     EQ 2017-05-15  ...      5  2017   983.250000\n",
              "1    HINDUNILVR     EQ 2017-05-16  ...      5  2017   994.772529\n",
              "2    HINDUNILVR     EQ 2017-05-17  ...      5  2017  1001.673993\n",
              "3    HINDUNILVR     EQ 2017-05-18  ...      5  2017   997.237115\n",
              "4    HINDUNILVR     EQ 2017-05-19  ...      5  2017  1000.534181\n",
              "..          ...    ...        ...  ...    ...   ...          ...\n",
              "490  HINDUNILVR     EQ 2019-05-07  ...      5  2019  1493.746449\n",
              "491  HINDUNILVR     EQ 2019-05-08  ...      5  2019  1494.119209\n",
              "492  HINDUNILVR     EQ 2019-05-09  ...      5  2019  1494.506954\n",
              "493  HINDUNILVR     EQ 2019-05-10  ...      5  2019  1494.802870\n",
              "494  HINDUNILVR     EQ 2019-05-13  ...      5  2019  1495.170674\n",
              "\n",
              "[494 rows x 18 columns]"
            ]
          },
          "metadata": {
            "tags": []
          },
          "execution_count": 65
        }
      ]
    },
    {
      "cell_type": "code",
      "metadata": {
        "colab": {
          "base_uri": "https://localhost:8080/",
          "height": 0
        },
        "id": "UeXasMvyQA9s",
        "outputId": "a0bd7238-836f-4970-fcdc-577963541ad5"
      },
      "source": [
        "data_vmap = data[['Month', 'Year', 'VMAP']]\n",
        "data_vmap = data_vmap.groupby(['Month', 'Year'])\n",
        "data_vmap.last()"
      ],
      "execution_count": 66,
      "outputs": [
        {
          "output_type": "execute_result",
          "data": {
            "text/html": [
              "<div>\n",
              "<style scoped>\n",
              "    .dataframe tbody tr th:only-of-type {\n",
              "        vertical-align: middle;\n",
              "    }\n",
              "\n",
              "    .dataframe tbody tr th {\n",
              "        vertical-align: top;\n",
              "    }\n",
              "\n",
              "    .dataframe thead th {\n",
              "        text-align: right;\n",
              "    }\n",
              "</style>\n",
              "<table border=\"1\" class=\"dataframe\">\n",
              "  <thead>\n",
              "    <tr style=\"text-align: right;\">\n",
              "      <th></th>\n",
              "      <th></th>\n",
              "      <th>VMAP</th>\n",
              "    </tr>\n",
              "    <tr>\n",
              "      <th>Month</th>\n",
              "      <th>Year</th>\n",
              "      <th></th>\n",
              "    </tr>\n",
              "  </thead>\n",
              "  <tbody>\n",
              "    <tr>\n",
              "      <th rowspan=\"2\" valign=\"top\">1</th>\n",
              "      <th>2018</th>\n",
              "      <td>1203.381283</td>\n",
              "    </tr>\n",
              "    <tr>\n",
              "      <th>2019</th>\n",
              "      <td>1455.323871</td>\n",
              "    </tr>\n",
              "    <tr>\n",
              "      <th rowspan=\"2\" valign=\"top\">2</th>\n",
              "      <th>2018</th>\n",
              "      <td>1216.778340</td>\n",
              "    </tr>\n",
              "    <tr>\n",
              "      <th>2019</th>\n",
              "      <td>1470.446869</td>\n",
              "    </tr>\n",
              "    <tr>\n",
              "      <th rowspan=\"2\" valign=\"top\">3</th>\n",
              "      <th>2018</th>\n",
              "      <td>1224.552043</td>\n",
              "    </tr>\n",
              "    <tr>\n",
              "      <th>2019</th>\n",
              "      <td>1482.868547</td>\n",
              "    </tr>\n",
              "    <tr>\n",
              "      <th rowspan=\"2\" valign=\"top\">4</th>\n",
              "      <th>2018</th>\n",
              "      <td>1236.222757</td>\n",
              "    </tr>\n",
              "    <tr>\n",
              "      <th>2019</th>\n",
              "      <td>1491.664014</td>\n",
              "    </tr>\n",
              "    <tr>\n",
              "      <th rowspan=\"3\" valign=\"top\">5</th>\n",
              "      <th>2017</th>\n",
              "      <td>1026.507250</td>\n",
              "    </tr>\n",
              "    <tr>\n",
              "      <th>2018</th>\n",
              "      <td>1266.101871</td>\n",
              "    </tr>\n",
              "    <tr>\n",
              "      <th>2019</th>\n",
              "      <td>1495.170674</td>\n",
              "    </tr>\n",
              "    <tr>\n",
              "      <th rowspan=\"2\" valign=\"top\">6</th>\n",
              "      <th>2017</th>\n",
              "      <td>1064.193554</td>\n",
              "    </tr>\n",
              "    <tr>\n",
              "      <th>2018</th>\n",
              "      <td>1293.225582</td>\n",
              "    </tr>\n",
              "    <tr>\n",
              "      <th rowspan=\"2\" valign=\"top\">7</th>\n",
              "      <th>2017</th>\n",
              "      <td>1093.515359</td>\n",
              "    </tr>\n",
              "    <tr>\n",
              "      <th>2018</th>\n",
              "      <td>1331.337593</td>\n",
              "    </tr>\n",
              "    <tr>\n",
              "      <th rowspan=\"2\" valign=\"top\">8</th>\n",
              "      <th>2017</th>\n",
              "      <td>1111.726648</td>\n",
              "    </tr>\n",
              "    <tr>\n",
              "      <th>2018</th>\n",
              "      <td>1355.107028</td>\n",
              "    </tr>\n",
              "    <tr>\n",
              "      <th rowspan=\"2\" valign=\"top\">9</th>\n",
              "      <th>2017</th>\n",
              "      <td>1133.683360</td>\n",
              "    </tr>\n",
              "    <tr>\n",
              "      <th>2018</th>\n",
              "      <td>1377.475388</td>\n",
              "    </tr>\n",
              "    <tr>\n",
              "      <th rowspan=\"2\" valign=\"top\">10</th>\n",
              "      <th>2017</th>\n",
              "      <td>1148.894254</td>\n",
              "    </tr>\n",
              "    <tr>\n",
              "      <th>2018</th>\n",
              "      <td>1390.695006</td>\n",
              "    </tr>\n",
              "    <tr>\n",
              "      <th rowspan=\"2\" valign=\"top\">11</th>\n",
              "      <th>2017</th>\n",
              "      <td>1164.697379</td>\n",
              "    </tr>\n",
              "    <tr>\n",
              "      <th>2018</th>\n",
              "      <td>1405.626994</td>\n",
              "    </tr>\n",
              "    <tr>\n",
              "      <th rowspan=\"2\" valign=\"top\">12</th>\n",
              "      <th>2017</th>\n",
              "      <td>1181.581429</td>\n",
              "    </tr>\n",
              "    <tr>\n",
              "      <th>2018</th>\n",
              "      <td>1434.666977</td>\n",
              "    </tr>\n",
              "  </tbody>\n",
              "</table>\n",
              "</div>"
            ],
            "text/plain": [
              "                   VMAP\n",
              "Month Year             \n",
              "1     2018  1203.381283\n",
              "      2019  1455.323871\n",
              "2     2018  1216.778340\n",
              "      2019  1470.446869\n",
              "3     2018  1224.552043\n",
              "      2019  1482.868547\n",
              "4     2018  1236.222757\n",
              "      2019  1491.664014\n",
              "5     2017  1026.507250\n",
              "      2018  1266.101871\n",
              "      2019  1495.170674\n",
              "6     2017  1064.193554\n",
              "      2018  1293.225582\n",
              "7     2017  1093.515359\n",
              "      2018  1331.337593\n",
              "8     2017  1111.726648\n",
              "      2018  1355.107028\n",
              "9     2017  1133.683360\n",
              "      2018  1377.475388\n",
              "10    2017  1148.894254\n",
              "      2018  1390.695006\n",
              "11    2017  1164.697379\n",
              "      2018  1405.626994\n",
              "12    2017  1181.581429\n",
              "      2018  1434.666977"
            ]
          },
          "metadata": {
            "tags": []
          },
          "execution_count": 66
        }
      ]
    },
    {
      "cell_type": "markdown",
      "metadata": {
        "id": "D4FP6b1OQWIO"
      },
      "source": [
        "#1.5"
      ]
    },
    {
      "cell_type": "markdown",
      "metadata": {
        "id": "QA648A0_OUgm"
      },
      "source": [
        "Write a function to calculate the average price over the last N days of the stock price data where N is a user defined parameter. Write a second function to calculate the profit/loss percentage over the last N days. Calculate the average price AND the profit/loss percentages over the course of last - 1 week, 2 weeks, 1 month, 3 months, 6 months and 1 year. {Note : Profit/Loss percentage between N days is the percentage change between the closing prices of the 2 days }"
      ]
    },
    {
      "cell_type": "code",
      "metadata": {
        "colab": {
          "base_uri": "https://localhost:8080/"
        },
        "id": "moMzwQJSOt32",
        "outputId": "a6bb9e26-0fee-4a55-a08b-6cc516d2f52d"
      },
      "source": [
        "def average_price(N):\n",
        "  return data['Close Price'].tail(N).sum()/N\n",
        "\n",
        "print('Average price in last 1 week is  : ', average_price(7))\n",
        "print('Average price in last 2 week is  : ', average_price(14))\n",
        "print('Average price in last 1 month is : ', average_price(30))\n",
        "print('Average price in last 3 month is : ', average_price(90))\n",
        "print('Average price in last 6 month is : ', average_price(180))\n",
        "print('Average price in last 1 year is  : ', average_price(365))"
      ],
      "execution_count": 67,
      "outputs": [
        {
          "output_type": "stream",
          "text": [
            "Average price in last 1 week is  :  1691.6928571428573\n",
            "Average price in last 2 week is  :  1717.2357142857145\n",
            "Average price in last 1 month is :  1705.283333333333\n",
            "Average price in last 3 month is :  1739.6955555555555\n",
            "Average price in last 6 month is :  1713.2538888888894\n",
            "Average price in last 1 year is  :  1583.9738356164382\n"
          ],
          "name": "stdout"
        }
      ]
    },
    {
      "cell_type": "code",
      "metadata": {
        "colab": {
          "base_uri": "https://localhost:8080/"
        },
        "id": "8XuW_uBjQgOf",
        "outputId": "8528f701-caa6-4014-cf72-a89def2d7966"
      },
      "source": [
        "def p_l_per(N):\n",
        "  diffrence = data['Close Price'].tail(N).iloc[N-1] - data['Close Price'].tail(N).iloc[0]\n",
        "  if diffrence < 0:\n",
        "    loss = -diffrence\n",
        "    return loss/data['Close Price'].tail(N).iloc[N-1] *100\n",
        "  elif diffrence > 0:\n",
        "    profit = diffrence\n",
        "    return profit/data['Close Price'].tail(N).iloc[N-1] *100\n",
        "  else:\n",
        "    return 0\n",
        "\n",
        "print('Profit/Loss percentage in last 1 week is  : ', p_l_per(7))\n",
        "print('Profit/Loss percentage in last 2 week is  : ', p_l_per(14))\n",
        "print('Profit/Loss percentage in last 1 month is : ', p_l_per(30))\n",
        "print('Profit/Loss percentage in last 3 month is : ', p_l_per(90))\n",
        "print('Profit/Loss percentage in last 6 month is : ', p_l_per(180))\n",
        "print('Profit/Loss percentage in last 1 year is  : ', p_l_per(365))"
      ],
      "execution_count": 68,
      "outputs": [
        {
          "output_type": "stream",
          "text": [
            "Profit/Loss percentage in last 1 week is  :  0.4964747356051731\n",
            "Profit/Loss percentage in last 2 week is  :  2.2238542890716753\n",
            "Profit/Loss percentage in last 1 month is :  1.2455934195064657\n",
            "Profit/Loss percentage in last 3 month is :  6.91245593419507\n",
            "Profit/Loss percentage in last 6 month is :  2.482373678025852\n",
            "Profit/Loss percentage in last 1 year is  :  24.90305522914218\n"
          ],
          "name": "stdout"
        }
      ]
    },
    {
      "cell_type": "markdown",
      "metadata": {
        "id": "ZULtKmkfTE3o"
      },
      "source": [
        "#1.6"
      ]
    },
    {
      "cell_type": "markdown",
      "metadata": {
        "id": "7ThxuR1UW6BD"
      },
      "source": [
        "Add a column 'Day_Perc_Change' where the values are the daily change in percentages i.e. the percentage change between 2 consecutive day's closing prices. Instead of using the basic mathematical formula for computing the same, use 'pct_change()' function provided by Pandas for dataframes. You will note that the first entry of the column will have a ‘Nan’ value. Why does this happen? Either remove the first row, or set the entry to 0 before proceeding."
      ]
    },
    {
      "cell_type": "code",
      "metadata": {
        "colab": {
          "base_uri": "https://localhost:8080/",
          "height": 660
        },
        "id": "Z_bf1hrdW7Bn",
        "outputId": "a0ac4513-c9ba-401e-c562-2837171db45c"
      },
      "source": [
        "data['Day_Perc_Change'] = data['Close Price'].pct_change().fillna(0)\n",
        "data"
      ],
      "execution_count": 69,
      "outputs": [
        {
          "output_type": "execute_result",
          "data": {
            "text/html": [
              "<div>\n",
              "<style scoped>\n",
              "    .dataframe tbody tr th:only-of-type {\n",
              "        vertical-align: middle;\n",
              "    }\n",
              "\n",
              "    .dataframe tbody tr th {\n",
              "        vertical-align: top;\n",
              "    }\n",
              "\n",
              "    .dataframe thead th {\n",
              "        text-align: right;\n",
              "    }\n",
              "</style>\n",
              "<table border=\"1\" class=\"dataframe\">\n",
              "  <thead>\n",
              "    <tr style=\"text-align: right;\">\n",
              "      <th></th>\n",
              "      <th>Symbol</th>\n",
              "      <th>Series</th>\n",
              "      <th>Date</th>\n",
              "      <th>Prev Close</th>\n",
              "      <th>Open Price</th>\n",
              "      <th>High Price</th>\n",
              "      <th>Low Price</th>\n",
              "      <th>Last Price</th>\n",
              "      <th>Close Price</th>\n",
              "      <th>Average Price</th>\n",
              "      <th>Total Traded Quantity</th>\n",
              "      <th>Turnover</th>\n",
              "      <th>No. of Trades</th>\n",
              "      <th>Deliverable Qty</th>\n",
              "      <th>% Dly Qt to Traded Qty</th>\n",
              "      <th>Month</th>\n",
              "      <th>Year</th>\n",
              "      <th>VMAP</th>\n",
              "      <th>Day_Perc_Change</th>\n",
              "    </tr>\n",
              "  </thead>\n",
              "  <tbody>\n",
              "    <tr>\n",
              "      <th>0</th>\n",
              "      <td>HINDUNILVR</td>\n",
              "      <td>EQ</td>\n",
              "      <td>2017-05-15</td>\n",
              "      <td>980.20</td>\n",
              "      <td>981.30</td>\n",
              "      <td>988.85</td>\n",
              "      <td>974.55</td>\n",
              "      <td>982.50</td>\n",
              "      <td>983.25</td>\n",
              "      <td>980.72</td>\n",
              "      <td>734446</td>\n",
              "      <td>7.202888e+08</td>\n",
              "      <td>32976</td>\n",
              "      <td>420159</td>\n",
              "      <td>57.21</td>\n",
              "      <td>5</td>\n",
              "      <td>2017</td>\n",
              "      <td>983.250000</td>\n",
              "      <td>0.000000</td>\n",
              "    </tr>\n",
              "    <tr>\n",
              "      <th>1</th>\n",
              "      <td>HINDUNILVR</td>\n",
              "      <td>EQ</td>\n",
              "      <td>2017-05-16</td>\n",
              "      <td>983.25</td>\n",
              "      <td>983.00</td>\n",
              "      <td>1002.50</td>\n",
              "      <td>982.05</td>\n",
              "      <td>999.50</td>\n",
              "      <td>1000.40</td>\n",
              "      <td>994.00</td>\n",
              "      <td>1503815</td>\n",
              "      <td>1.494798e+09</td>\n",
              "      <td>39717</td>\n",
              "      <td>669576</td>\n",
              "      <td>44.53</td>\n",
              "      <td>5</td>\n",
              "      <td>2017</td>\n",
              "      <td>994.772529</td>\n",
              "      <td>0.017442</td>\n",
              "    </tr>\n",
              "    <tr>\n",
              "      <th>2</th>\n",
              "      <td>HINDUNILVR</td>\n",
              "      <td>EQ</td>\n",
              "      <td>2017-05-17</td>\n",
              "      <td>1000.40</td>\n",
              "      <td>1004.00</td>\n",
              "      <td>1012.00</td>\n",
              "      <td>991.10</td>\n",
              "      <td>1009.00</td>\n",
              "      <td>1009.40</td>\n",
              "      <td>1003.84</td>\n",
              "      <td>1999387</td>\n",
              "      <td>2.007056e+09</td>\n",
              "      <td>63210</td>\n",
              "      <td>996054</td>\n",
              "      <td>49.82</td>\n",
              "      <td>5</td>\n",
              "      <td>2017</td>\n",
              "      <td>1001.673993</td>\n",
              "      <td>0.008996</td>\n",
              "    </tr>\n",
              "    <tr>\n",
              "      <th>3</th>\n",
              "      <td>HINDUNILVR</td>\n",
              "      <td>EQ</td>\n",
              "      <td>2017-05-18</td>\n",
              "      <td>1009.40</td>\n",
              "      <td>1008.00</td>\n",
              "      <td>1009.00</td>\n",
              "      <td>983.00</td>\n",
              "      <td>987.50</td>\n",
              "      <td>990.25</td>\n",
              "      <td>997.56</td>\n",
              "      <td>2690943</td>\n",
              "      <td>2.684374e+09</td>\n",
              "      <td>78098</td>\n",
              "      <td>983594</td>\n",
              "      <td>36.55</td>\n",
              "      <td>5</td>\n",
              "      <td>2017</td>\n",
              "      <td>997.237115</td>\n",
              "      <td>-0.018972</td>\n",
              "    </tr>\n",
              "    <tr>\n",
              "      <th>4</th>\n",
              "      <td>HINDUNILVR</td>\n",
              "      <td>EQ</td>\n",
              "      <td>2017-05-19</td>\n",
              "      <td>990.25</td>\n",
              "      <td>1000.00</td>\n",
              "      <td>1022.75</td>\n",
              "      <td>1000.00</td>\n",
              "      <td>1004.10</td>\n",
              "      <td>1008.00</td>\n",
              "      <td>1009.97</td>\n",
              "      <td>3059815</td>\n",
              "      <td>3.090316e+09</td>\n",
              "      <td>57429</td>\n",
              "      <td>1523108</td>\n",
              "      <td>49.78</td>\n",
              "      <td>5</td>\n",
              "      <td>2017</td>\n",
              "      <td>1000.534181</td>\n",
              "      <td>0.017925</td>\n",
              "    </tr>\n",
              "    <tr>\n",
              "      <th>...</th>\n",
              "      <td>...</td>\n",
              "      <td>...</td>\n",
              "      <td>...</td>\n",
              "      <td>...</td>\n",
              "      <td>...</td>\n",
              "      <td>...</td>\n",
              "      <td>...</td>\n",
              "      <td>...</td>\n",
              "      <td>...</td>\n",
              "      <td>...</td>\n",
              "      <td>...</td>\n",
              "      <td>...</td>\n",
              "      <td>...</td>\n",
              "      <td>...</td>\n",
              "      <td>...</td>\n",
              "      <td>...</td>\n",
              "      <td>...</td>\n",
              "      <td>...</td>\n",
              "      <td>...</td>\n",
              "    </tr>\n",
              "    <tr>\n",
              "      <th>490</th>\n",
              "      <td>HINDUNILVR</td>\n",
              "      <td>EQ</td>\n",
              "      <td>2019-05-07</td>\n",
              "      <td>1668.90</td>\n",
              "      <td>1678.80</td>\n",
              "      <td>1710.90</td>\n",
              "      <td>1672.50</td>\n",
              "      <td>1697.50</td>\n",
              "      <td>1697.50</td>\n",
              "      <td>1700.33</td>\n",
              "      <td>2212617</td>\n",
              "      <td>3.762183e+09</td>\n",
              "      <td>83971</td>\n",
              "      <td>1248858</td>\n",
              "      <td>56.44</td>\n",
              "      <td>5</td>\n",
              "      <td>2019</td>\n",
              "      <td>1493.746449</td>\n",
              "      <td>0.017137</td>\n",
              "    </tr>\n",
              "    <tr>\n",
              "      <th>491</th>\n",
              "      <td>HINDUNILVR</td>\n",
              "      <td>EQ</td>\n",
              "      <td>2019-05-08</td>\n",
              "      <td>1697.50</td>\n",
              "      <td>1697.50</td>\n",
              "      <td>1697.50</td>\n",
              "      <td>1675.00</td>\n",
              "      <td>1690.15</td>\n",
              "      <td>1688.70</td>\n",
              "      <td>1686.13</td>\n",
              "      <td>1243338</td>\n",
              "      <td>2.096428e+09</td>\n",
              "      <td>105328</td>\n",
              "      <td>849935</td>\n",
              "      <td>68.36</td>\n",
              "      <td>5</td>\n",
              "      <td>2019</td>\n",
              "      <td>1494.119209</td>\n",
              "      <td>-0.005184</td>\n",
              "    </tr>\n",
              "    <tr>\n",
              "      <th>492</th>\n",
              "      <td>HINDUNILVR</td>\n",
              "      <td>EQ</td>\n",
              "      <td>2019-05-09</td>\n",
              "      <td>1688.70</td>\n",
              "      <td>1680.10</td>\n",
              "      <td>1713.00</td>\n",
              "      <td>1677.00</td>\n",
              "      <td>1702.45</td>\n",
              "      <td>1703.75</td>\n",
              "      <td>1695.24</td>\n",
              "      <td>1204995</td>\n",
              "      <td>2.042757e+09</td>\n",
              "      <td>96629</td>\n",
              "      <td>821111</td>\n",
              "      <td>68.14</td>\n",
              "      <td>5</td>\n",
              "      <td>2019</td>\n",
              "      <td>1494.506954</td>\n",
              "      <td>0.008912</td>\n",
              "    </tr>\n",
              "    <tr>\n",
              "      <th>493</th>\n",
              "      <td>HINDUNILVR</td>\n",
              "      <td>EQ</td>\n",
              "      <td>2019-05-10</td>\n",
              "      <td>1703.75</td>\n",
              "      <td>1708.95</td>\n",
              "      <td>1709.00</td>\n",
              "      <td>1678.50</td>\n",
              "      <td>1686.00</td>\n",
              "      <td>1687.45</td>\n",
              "      <td>1694.39</td>\n",
              "      <td>1000696</td>\n",
              "      <td>1.695567e+09</td>\n",
              "      <td>98364</td>\n",
              "      <td>581135</td>\n",
              "      <td>58.07</td>\n",
              "      <td>5</td>\n",
              "      <td>2019</td>\n",
              "      <td>1494.802870</td>\n",
              "      <td>-0.009567</td>\n",
              "    </tr>\n",
              "    <tr>\n",
              "      <th>494</th>\n",
              "      <td>HINDUNILVR</td>\n",
              "      <td>EQ</td>\n",
              "      <td>2019-05-13</td>\n",
              "      <td>1687.45</td>\n",
              "      <td>1692.00</td>\n",
              "      <td>1717.00</td>\n",
              "      <td>1688.70</td>\n",
              "      <td>1699.10</td>\n",
              "      <td>1702.00</td>\n",
              "      <td>1705.60</td>\n",
              "      <td>1160287</td>\n",
              "      <td>1.978984e+09</td>\n",
              "      <td>55814</td>\n",
              "      <td>653294</td>\n",
              "      <td>56.30</td>\n",
              "      <td>5</td>\n",
              "      <td>2019</td>\n",
              "      <td>1495.170674</td>\n",
              "      <td>0.008622</td>\n",
              "    </tr>\n",
              "  </tbody>\n",
              "</table>\n",
              "<p>494 rows × 19 columns</p>\n",
              "</div>"
            ],
            "text/plain": [
              "         Symbol Series       Date  ...  Year         VMAP  Day_Perc_Change\n",
              "0    HINDUNILVR     EQ 2017-05-15  ...  2017   983.250000         0.000000\n",
              "1    HINDUNILVR     EQ 2017-05-16  ...  2017   994.772529         0.017442\n",
              "2    HINDUNILVR     EQ 2017-05-17  ...  2017  1001.673993         0.008996\n",
              "3    HINDUNILVR     EQ 2017-05-18  ...  2017   997.237115        -0.018972\n",
              "4    HINDUNILVR     EQ 2017-05-19  ...  2017  1000.534181         0.017925\n",
              "..          ...    ...        ...  ...   ...          ...              ...\n",
              "490  HINDUNILVR     EQ 2019-05-07  ...  2019  1493.746449         0.017137\n",
              "491  HINDUNILVR     EQ 2019-05-08  ...  2019  1494.119209        -0.005184\n",
              "492  HINDUNILVR     EQ 2019-05-09  ...  2019  1494.506954         0.008912\n",
              "493  HINDUNILVR     EQ 2019-05-10  ...  2019  1494.802870        -0.009567\n",
              "494  HINDUNILVR     EQ 2019-05-13  ...  2019  1495.170674         0.008622\n",
              "\n",
              "[494 rows x 19 columns]"
            ]
          },
          "metadata": {
            "tags": []
          },
          "execution_count": 69
        }
      ]
    },
    {
      "cell_type": "markdown",
      "metadata": {
        "id": "I-n42krvXiZH"
      },
      "source": [
        "#1.7"
      ]
    },
    {
      "cell_type": "markdown",
      "metadata": {
        "id": "LWCNiG5eZeh1"
      },
      "source": [
        "Add another column 'Trend' whose values are: \n",
        "'Slight or No change' for 'Day_Perc_Change' in between -0.005 and 0.0005 \n",
        "'Slight positive' for 'Day_Perc_Change' in between 0.005 and 0.01\n",
        "'Slight negative' for 'Day_Perc_Change' in between -0.005 and -0.01\n",
        "'Positive' for 'Day_Perc_Change' in between 0.01 and 0.03\n",
        "'Negative' for 'Day_Perc_Change' in between -0.01 and -0.03\n",
        "'Among top gainers' for 'Day_Perc_Change' in between 0.03 and 0.07\n",
        "'Among top losers' for 'Day_Perc_Change' in between -0.03 and -0.07\n",
        "'Bull run' for 'Day_Perc_Change' >0.07\n",
        "'Bear drop' for 'Day_Perc_Change' <-0.07\n"
      ]
    },
    {
      "cell_type": "code",
      "metadata": {
        "colab": {
          "base_uri": "https://localhost:8080/",
          "height": 677
        },
        "id": "Rm4nibWxZr0_",
        "outputId": "bac7a1f4-8b10-46d3-82d2-807b7c25880d"
      },
      "source": [
        "bins = [-np.inf, -0.07, -0.03, -0.01, -0.005, 0.0005, 0.01, 0.03, 0.07, np.inf]\n",
        "labels = ['Bear drop', 'Among top losers', 'Negative', 'Slight negative', 'Slight or No change',\n",
        "          'Slight positive', 'Positive', 'Among top gainers', 'Bull run']\n",
        "          \n",
        "data['Trend'] = pd.cut(data['Day_Perc_Change'], bins=bins, labels=labels)\n",
        "data"
      ],
      "execution_count": 70,
      "outputs": [
        {
          "output_type": "execute_result",
          "data": {
            "text/html": [
              "<div>\n",
              "<style scoped>\n",
              "    .dataframe tbody tr th:only-of-type {\n",
              "        vertical-align: middle;\n",
              "    }\n",
              "\n",
              "    .dataframe tbody tr th {\n",
              "        vertical-align: top;\n",
              "    }\n",
              "\n",
              "    .dataframe thead th {\n",
              "        text-align: right;\n",
              "    }\n",
              "</style>\n",
              "<table border=\"1\" class=\"dataframe\">\n",
              "  <thead>\n",
              "    <tr style=\"text-align: right;\">\n",
              "      <th></th>\n",
              "      <th>Symbol</th>\n",
              "      <th>Series</th>\n",
              "      <th>Date</th>\n",
              "      <th>Prev Close</th>\n",
              "      <th>Open Price</th>\n",
              "      <th>High Price</th>\n",
              "      <th>Low Price</th>\n",
              "      <th>Last Price</th>\n",
              "      <th>Close Price</th>\n",
              "      <th>Average Price</th>\n",
              "      <th>Total Traded Quantity</th>\n",
              "      <th>Turnover</th>\n",
              "      <th>No. of Trades</th>\n",
              "      <th>Deliverable Qty</th>\n",
              "      <th>% Dly Qt to Traded Qty</th>\n",
              "      <th>Month</th>\n",
              "      <th>Year</th>\n",
              "      <th>VMAP</th>\n",
              "      <th>Day_Perc_Change</th>\n",
              "      <th>Trend</th>\n",
              "    </tr>\n",
              "  </thead>\n",
              "  <tbody>\n",
              "    <tr>\n",
              "      <th>0</th>\n",
              "      <td>HINDUNILVR</td>\n",
              "      <td>EQ</td>\n",
              "      <td>2017-05-15</td>\n",
              "      <td>980.20</td>\n",
              "      <td>981.30</td>\n",
              "      <td>988.85</td>\n",
              "      <td>974.55</td>\n",
              "      <td>982.50</td>\n",
              "      <td>983.25</td>\n",
              "      <td>980.72</td>\n",
              "      <td>734446</td>\n",
              "      <td>7.202888e+08</td>\n",
              "      <td>32976</td>\n",
              "      <td>420159</td>\n",
              "      <td>57.21</td>\n",
              "      <td>5</td>\n",
              "      <td>2017</td>\n",
              "      <td>983.250000</td>\n",
              "      <td>0.000000</td>\n",
              "      <td>Slight or No change</td>\n",
              "    </tr>\n",
              "    <tr>\n",
              "      <th>1</th>\n",
              "      <td>HINDUNILVR</td>\n",
              "      <td>EQ</td>\n",
              "      <td>2017-05-16</td>\n",
              "      <td>983.25</td>\n",
              "      <td>983.00</td>\n",
              "      <td>1002.50</td>\n",
              "      <td>982.05</td>\n",
              "      <td>999.50</td>\n",
              "      <td>1000.40</td>\n",
              "      <td>994.00</td>\n",
              "      <td>1503815</td>\n",
              "      <td>1.494798e+09</td>\n",
              "      <td>39717</td>\n",
              "      <td>669576</td>\n",
              "      <td>44.53</td>\n",
              "      <td>5</td>\n",
              "      <td>2017</td>\n",
              "      <td>994.772529</td>\n",
              "      <td>0.017442</td>\n",
              "      <td>Positive</td>\n",
              "    </tr>\n",
              "    <tr>\n",
              "      <th>2</th>\n",
              "      <td>HINDUNILVR</td>\n",
              "      <td>EQ</td>\n",
              "      <td>2017-05-17</td>\n",
              "      <td>1000.40</td>\n",
              "      <td>1004.00</td>\n",
              "      <td>1012.00</td>\n",
              "      <td>991.10</td>\n",
              "      <td>1009.00</td>\n",
              "      <td>1009.40</td>\n",
              "      <td>1003.84</td>\n",
              "      <td>1999387</td>\n",
              "      <td>2.007056e+09</td>\n",
              "      <td>63210</td>\n",
              "      <td>996054</td>\n",
              "      <td>49.82</td>\n",
              "      <td>5</td>\n",
              "      <td>2017</td>\n",
              "      <td>1001.673993</td>\n",
              "      <td>0.008996</td>\n",
              "      <td>Slight positive</td>\n",
              "    </tr>\n",
              "    <tr>\n",
              "      <th>3</th>\n",
              "      <td>HINDUNILVR</td>\n",
              "      <td>EQ</td>\n",
              "      <td>2017-05-18</td>\n",
              "      <td>1009.40</td>\n",
              "      <td>1008.00</td>\n",
              "      <td>1009.00</td>\n",
              "      <td>983.00</td>\n",
              "      <td>987.50</td>\n",
              "      <td>990.25</td>\n",
              "      <td>997.56</td>\n",
              "      <td>2690943</td>\n",
              "      <td>2.684374e+09</td>\n",
              "      <td>78098</td>\n",
              "      <td>983594</td>\n",
              "      <td>36.55</td>\n",
              "      <td>5</td>\n",
              "      <td>2017</td>\n",
              "      <td>997.237115</td>\n",
              "      <td>-0.018972</td>\n",
              "      <td>Negative</td>\n",
              "    </tr>\n",
              "    <tr>\n",
              "      <th>4</th>\n",
              "      <td>HINDUNILVR</td>\n",
              "      <td>EQ</td>\n",
              "      <td>2017-05-19</td>\n",
              "      <td>990.25</td>\n",
              "      <td>1000.00</td>\n",
              "      <td>1022.75</td>\n",
              "      <td>1000.00</td>\n",
              "      <td>1004.10</td>\n",
              "      <td>1008.00</td>\n",
              "      <td>1009.97</td>\n",
              "      <td>3059815</td>\n",
              "      <td>3.090316e+09</td>\n",
              "      <td>57429</td>\n",
              "      <td>1523108</td>\n",
              "      <td>49.78</td>\n",
              "      <td>5</td>\n",
              "      <td>2017</td>\n",
              "      <td>1000.534181</td>\n",
              "      <td>0.017925</td>\n",
              "      <td>Positive</td>\n",
              "    </tr>\n",
              "    <tr>\n",
              "      <th>...</th>\n",
              "      <td>...</td>\n",
              "      <td>...</td>\n",
              "      <td>...</td>\n",
              "      <td>...</td>\n",
              "      <td>...</td>\n",
              "      <td>...</td>\n",
              "      <td>...</td>\n",
              "      <td>...</td>\n",
              "      <td>...</td>\n",
              "      <td>...</td>\n",
              "      <td>...</td>\n",
              "      <td>...</td>\n",
              "      <td>...</td>\n",
              "      <td>...</td>\n",
              "      <td>...</td>\n",
              "      <td>...</td>\n",
              "      <td>...</td>\n",
              "      <td>...</td>\n",
              "      <td>...</td>\n",
              "      <td>...</td>\n",
              "    </tr>\n",
              "    <tr>\n",
              "      <th>490</th>\n",
              "      <td>HINDUNILVR</td>\n",
              "      <td>EQ</td>\n",
              "      <td>2019-05-07</td>\n",
              "      <td>1668.90</td>\n",
              "      <td>1678.80</td>\n",
              "      <td>1710.90</td>\n",
              "      <td>1672.50</td>\n",
              "      <td>1697.50</td>\n",
              "      <td>1697.50</td>\n",
              "      <td>1700.33</td>\n",
              "      <td>2212617</td>\n",
              "      <td>3.762183e+09</td>\n",
              "      <td>83971</td>\n",
              "      <td>1248858</td>\n",
              "      <td>56.44</td>\n",
              "      <td>5</td>\n",
              "      <td>2019</td>\n",
              "      <td>1493.746449</td>\n",
              "      <td>0.017137</td>\n",
              "      <td>Positive</td>\n",
              "    </tr>\n",
              "    <tr>\n",
              "      <th>491</th>\n",
              "      <td>HINDUNILVR</td>\n",
              "      <td>EQ</td>\n",
              "      <td>2019-05-08</td>\n",
              "      <td>1697.50</td>\n",
              "      <td>1697.50</td>\n",
              "      <td>1697.50</td>\n",
              "      <td>1675.00</td>\n",
              "      <td>1690.15</td>\n",
              "      <td>1688.70</td>\n",
              "      <td>1686.13</td>\n",
              "      <td>1243338</td>\n",
              "      <td>2.096428e+09</td>\n",
              "      <td>105328</td>\n",
              "      <td>849935</td>\n",
              "      <td>68.36</td>\n",
              "      <td>5</td>\n",
              "      <td>2019</td>\n",
              "      <td>1494.119209</td>\n",
              "      <td>-0.005184</td>\n",
              "      <td>Slight negative</td>\n",
              "    </tr>\n",
              "    <tr>\n",
              "      <th>492</th>\n",
              "      <td>HINDUNILVR</td>\n",
              "      <td>EQ</td>\n",
              "      <td>2019-05-09</td>\n",
              "      <td>1688.70</td>\n",
              "      <td>1680.10</td>\n",
              "      <td>1713.00</td>\n",
              "      <td>1677.00</td>\n",
              "      <td>1702.45</td>\n",
              "      <td>1703.75</td>\n",
              "      <td>1695.24</td>\n",
              "      <td>1204995</td>\n",
              "      <td>2.042757e+09</td>\n",
              "      <td>96629</td>\n",
              "      <td>821111</td>\n",
              "      <td>68.14</td>\n",
              "      <td>5</td>\n",
              "      <td>2019</td>\n",
              "      <td>1494.506954</td>\n",
              "      <td>0.008912</td>\n",
              "      <td>Slight positive</td>\n",
              "    </tr>\n",
              "    <tr>\n",
              "      <th>493</th>\n",
              "      <td>HINDUNILVR</td>\n",
              "      <td>EQ</td>\n",
              "      <td>2019-05-10</td>\n",
              "      <td>1703.75</td>\n",
              "      <td>1708.95</td>\n",
              "      <td>1709.00</td>\n",
              "      <td>1678.50</td>\n",
              "      <td>1686.00</td>\n",
              "      <td>1687.45</td>\n",
              "      <td>1694.39</td>\n",
              "      <td>1000696</td>\n",
              "      <td>1.695567e+09</td>\n",
              "      <td>98364</td>\n",
              "      <td>581135</td>\n",
              "      <td>58.07</td>\n",
              "      <td>5</td>\n",
              "      <td>2019</td>\n",
              "      <td>1494.802870</td>\n",
              "      <td>-0.009567</td>\n",
              "      <td>Slight negative</td>\n",
              "    </tr>\n",
              "    <tr>\n",
              "      <th>494</th>\n",
              "      <td>HINDUNILVR</td>\n",
              "      <td>EQ</td>\n",
              "      <td>2019-05-13</td>\n",
              "      <td>1687.45</td>\n",
              "      <td>1692.00</td>\n",
              "      <td>1717.00</td>\n",
              "      <td>1688.70</td>\n",
              "      <td>1699.10</td>\n",
              "      <td>1702.00</td>\n",
              "      <td>1705.60</td>\n",
              "      <td>1160287</td>\n",
              "      <td>1.978984e+09</td>\n",
              "      <td>55814</td>\n",
              "      <td>653294</td>\n",
              "      <td>56.30</td>\n",
              "      <td>5</td>\n",
              "      <td>2019</td>\n",
              "      <td>1495.170674</td>\n",
              "      <td>0.008622</td>\n",
              "      <td>Slight positive</td>\n",
              "    </tr>\n",
              "  </tbody>\n",
              "</table>\n",
              "<p>494 rows × 20 columns</p>\n",
              "</div>"
            ],
            "text/plain": [
              "         Symbol Series  ... Day_Perc_Change                Trend\n",
              "0    HINDUNILVR     EQ  ...        0.000000  Slight or No change\n",
              "1    HINDUNILVR     EQ  ...        0.017442             Positive\n",
              "2    HINDUNILVR     EQ  ...        0.008996      Slight positive\n",
              "3    HINDUNILVR     EQ  ...       -0.018972             Negative\n",
              "4    HINDUNILVR     EQ  ...        0.017925             Positive\n",
              "..          ...    ...  ...             ...                  ...\n",
              "490  HINDUNILVR     EQ  ...        0.017137             Positive\n",
              "491  HINDUNILVR     EQ  ...       -0.005184      Slight negative\n",
              "492  HINDUNILVR     EQ  ...        0.008912      Slight positive\n",
              "493  HINDUNILVR     EQ  ...       -0.009567      Slight negative\n",
              "494  HINDUNILVR     EQ  ...        0.008622      Slight positive\n",
              "\n",
              "[494 rows x 20 columns]"
            ]
          },
          "metadata": {
            "tags": []
          },
          "execution_count": 70
        }
      ]
    },
    {
      "cell_type": "markdown",
      "metadata": {
        "id": "xHqE3v1bbhG6"
      },
      "source": [
        "#1.8"
      ]
    },
    {
      "cell_type": "markdown",
      "metadata": {
        "id": "u3hsJTU8e4Xt"
      },
      "source": [
        "Find the average and median values of the column 'Total Traded Quantity' for each of the types of 'Trend'."
      ]
    },
    {
      "cell_type": "code",
      "metadata": {
        "colab": {
          "base_uri": "https://localhost:8080/"
        },
        "id": "tUELTpyne8RI",
        "outputId": "cec3967b-9138-4be3-f1b1-cb290fa76979"
      },
      "source": [
        "data.groupby(data.Trend).mean()['Total Traded Quantity'].fillna(0)"
      ],
      "execution_count": 83,
      "outputs": [
        {
          "output_type": "execute_result",
          "data": {
            "text/plain": [
              "Trend\n",
              "Bear drop              0.00000000e+00\n",
              "Among top losers       3.16494700e+06\n",
              "Negative               1.42262603e+06\n",
              "Slight negative        1.31901906e+06\n",
              "Slight or No change    1.19864179e+06\n",
              "Slight positive        1.21829852e+06\n",
              "Positive               1.40566943e+06\n",
              "Among top gainers      2.61360717e+06\n",
              "Bull run               0.00000000e+00\n",
              "Name: Total Traded Quantity, dtype: float64"
            ]
          },
          "metadata": {
            "tags": []
          },
          "execution_count": 83
        }
      ]
    },
    {
      "cell_type": "code",
      "metadata": {
        "colab": {
          "base_uri": "https://localhost:8080/"
        },
        "id": "W3-8gZfSfOlK",
        "outputId": "f3c7671c-31d1-40d7-8ec4-b5728d2841a4"
      },
      "source": [
        "data.groupby(data.Trend).median()['Total Traded Quantity'].fillna(0)"
      ],
      "execution_count": 85,
      "outputs": [
        {
          "output_type": "execute_result",
          "data": {
            "text/plain": [
              "Trend\n",
              "Bear drop                    0.0\n",
              "Among top losers       1744229.0\n",
              "Negative               1214795.0\n",
              "Slight negative        1194276.5\n",
              "Slight or No change     978091.0\n",
              "Slight positive        1121799.5\n",
              "Positive               1374834.0\n",
              "Among top gainers      2367385.0\n",
              "Bull run                     0.0\n",
              "Name: Total Traded Quantity, dtype: float64"
            ]
          },
          "metadata": {
            "tags": []
          },
          "execution_count": 85
        }
      ]
    },
    {
      "cell_type": "markdown",
      "metadata": {
        "id": "69Sxzz1UgJM5"
      },
      "source": [
        "#1.9"
      ]
    },
    {
      "cell_type": "markdown",
      "metadata": {
        "id": "0piZiPHKgmi3"
      },
      "source": [
        "SAVE the dataframe with the additional columns computed as a csv file week2.csv. In Module 2, you are going to get familiar with matplotlib, the python module which is used to visualize data."
      ]
    },
    {
      "cell_type": "code",
      "metadata": {
        "id": "sNtYhMkvgnqO"
      },
      "source": [
        "data.to_csv('Module_1_Solutions.csv')"
      ],
      "execution_count": 86,
      "outputs": []
    }
  ]
}